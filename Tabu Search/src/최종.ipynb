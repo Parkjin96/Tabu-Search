{
 "cells": [
  {
   "cell_type": "code",
   "execution_count": 16,
   "metadata": {},
   "outputs": [],
   "source": [
    "from tqdm import tqdm_notebook\n",
    "import random\n",
    "import pandas as pd\n",
    "import numpy as np\n",
    "import time\n",
    "import matplotlib.pyplot as plt\n",
    "import warnings\n",
    "warnings.filterwarnings(action='ignore') \n",
    "data = pd.read_csv('x.csv')\n",
    "y = pd.read_csv('y.csv')\n",
    "max_num = 1100\n",
    "min_num = 900\n",
    "data['T'] = y\n",
    "tag_num_tabu = []\n",
    "base_score = data['T'].mean()"
   ]
  },
  {
   "cell_type": "code",
   "execution_count": 37,
   "metadata": {},
   "outputs": [],
   "source": [
    "def Make_insol(sol_num):\n",
    "    sol = []\n",
    "    not_search = [] ## 한 조건에 같은 tag 등장 제거\n",
    "    cnt = 0\n",
    "    while(sol_num):\n",
    "        if cnt ==0:\n",
    "            d = [1,np.random.randint(50),np.random.randint(1,11)]\n",
    "            sol.append(d)\n",
    "            not_search.append(d[1])\n",
    "            sol_num-=1\n",
    "        else:\n",
    "            num = np.random.randint(50)\n",
    "            if num not in not_search:\n",
    "                d = [np.random.randint(2),num,np.random.randint(1,11)]\n",
    "                sol.append(d)\n",
    "                not_search.append(d[1])\n",
    "                sol_num-=1\n",
    "        cnt+= 1\n",
    "    return sol"
   ]
  },
  {
   "cell_type": "code",
   "execution_count": 38,
   "metadata": {},
   "outputs": [],
   "source": [
    "a = Make_insol(3)"
   ]
  },
  {
   "cell_type": "code",
   "execution_count": 39,
   "metadata": {},
   "outputs": [
    {
     "data": {
      "text/plain": [
       "[[1, 19, 4], [0, 43, 9], [1, 46, 7]]"
      ]
     },
     "execution_count": 39,
     "metadata": {},
     "output_type": "execute_result"
    }
   ],
   "source": [
    "a"
   ]
  },
  {
   "cell_type": "code",
   "execution_count": 4,
   "metadata": {},
   "outputs": [],
   "source": [
    "def Select_data(sol,data):\n",
    "    local_data = data.copy()\n",
    "    for i in range(len(sol)):\n",
    "        if sol[i][0] :\n",
    "            new_data = local_data[data.iloc[:,sol[i][1]] >= sol[i][2]]\n",
    "        else:\n",
    "            new_data = local_data[data.iloc[:,sol[i][1]] < sol[i][2]]\n",
    "        local_data = new_data\n",
    "    score = new_data['T'].mean()\n",
    "    len_data = len(new_data)\n",
    "    return score, len_data"
   ]
  },
  {
   "cell_type": "code",
   "execution_count": 52,
   "metadata": {},
   "outputs": [],
   "source": [
    "a = Make_insol(3)"
   ]
  },
  {
   "cell_type": "code",
   "execution_count": 53,
   "metadata": {},
   "outputs": [
    {
     "data": {
      "text/plain": [
       "[[1, 1, 5], [0, 12, 4], [0, 31, 4]]"
      ]
     },
     "execution_count": 53,
     "metadata": {},
     "output_type": "execute_result"
    }
   ],
   "source": [
    "a"
   ]
  },
  {
   "cell_type": "code",
   "execution_count": 67,
   "metadata": {},
   "outputs": [],
   "source": [
    "b = Make_neighbor_sol2(a,1000)"
   ]
  },
  {
   "cell_type": "code",
   "execution_count": 59,
   "metadata": {},
   "outputs": [
    {
     "data": {
      "text/plain": [
       "100"
      ]
     },
     "execution_count": 59,
     "metadata": {},
     "output_type": "execute_result"
    }
   ],
   "source": [
    "len(b)"
   ]
  },
  {
   "cell_type": "code",
   "execution_count": 60,
   "metadata": {},
   "outputs": [
    {
     "data": {
      "text/plain": [
       "[]"
      ]
     },
     "execution_count": 60,
     "metadata": {},
     "output_type": "execute_result"
    }
   ],
   "source": [
    "check_nbr(b,data,0.578)"
   ]
  },
  {
   "cell_type": "code",
   "execution_count": 5,
   "metadata": {},
   "outputs": [],
   "source": [
    "def Make_neighbor_sol2(sol,num):\n",
    "    tot_sol = []\n",
    "#     tot_sol.append(sol)\n",
    "    a = len(sol)\n",
    "    for i in range(num):\n",
    "        t = Make_insol(a)\n",
    "        if t[:2] not in tag_num_tabu:\n",
    "            tot_sol.append(Make_insol(a))\n",
    "        \n",
    "    return tot_sol"
   ]
  },
  {
   "cell_type": "code",
   "execution_count": 6,
   "metadata": {},
   "outputs": [],
   "source": [
    "def good_neighbor_sol(sol,num):\n",
    "    tot_sol = []\n",
    "    t = sol\n",
    "    a = len(sol)\n",
    "    tag = []\n",
    "    for i in sol:\n",
    "        tag.append(i[1])\n",
    "    for i in range(num):    \n",
    "        for i in range(a):\n",
    "            tm = Make_insol(1)[0]\n",
    "            d = True\n",
    "            while(d):\n",
    "                if tm[1] not in tag:\n",
    "                    sol[i] = tm\n",
    "                    tot_sol.append(sol)\n",
    "                    sol = t\n",
    "                    d = False\n",
    "    return tot_sol"
   ]
  },
  {
   "cell_type": "code",
   "execution_count": null,
   "metadata": {},
   "outputs": [],
   "source": [
    "dfsdfsf"
   ]
  },
  {
   "cell_type": "code",
   "execution_count": 7,
   "metadata": {},
   "outputs": [],
   "source": [
    "def Make_neighbor_sol(sol,num):\n",
    "    tot_sol = []\n",
    "#     tot_sol.append(sol)\n",
    "    a = len(sol)\n",
    "    for i in range(num):\n",
    "        t = Make_insol(a)\n",
    "        if t[:3] not in tag_num_tabu:\n",
    "            tot_sol.append(Make_insol(a))\n",
    "        \n",
    "    return tot_sol"
   ]
  },
  {
   "cell_type": "code",
   "execution_count": 8,
   "metadata": {},
   "outputs": [],
   "source": [
    "def Make_valneighbor(sol,num):\n",
    "    tot_num_list = []\n",
    "    nbr_sol = []\n",
    "    tem = []\n",
    "    for i in range(len(sol)):\n",
    "        tem.append(sol[i][2])\n",
    "    tot_num_list.append(tem)\n",
    "    nbr = []\n",
    "    num1 = num\n",
    "    while(num) :\n",
    "        num-=1\n",
    "        flg = True\n",
    "        cnt = 0\n",
    "        while(flg):\n",
    "            cnt+=1\n",
    "            tem_ne = []\n",
    "            for i in range(len(sol)):\n",
    "                tem_ne.append(np.random.randint(1,11))\n",
    "            if (tem_ne not in tot_num_list) or cnt ==5:\n",
    "                flg = False\n",
    "                nbr.append(tem_ne)\n",
    "                tot_num_list.append(tem_ne)\n",
    "                \n",
    "                \n",
    "                \n",
    "    for i in range(num1):\n",
    "        nbr_sol.append([])\n",
    "     \n",
    "        for j in range(len(sol)):\n",
    "          \n",
    "            nbr_sol[i].append([sol[j][0],sol[j][1],nbr[i][j]])\n",
    "#     print(nbr_sol)\n",
    "    return(nbr_sol)"
   ]
  },
  {
   "cell_type": "code",
   "execution_count": 9,
   "metadata": {},
   "outputs": [],
   "source": [
    "def find_local_sol(nbr):\n",
    "    \n",
    "    tmsc = []\n",
    "    tmso = []\n",
    "    for i in nbr:\n",
    "        \n",
    "        a,b = Select_data(i,data)\n",
    "        \n",
    "        if min_num<=b<=max_num:\n",
    "            tmsc.append(a)\n",
    "            tmso.append(i)\n",
    "    if len(tmsc):\n",
    "        score = max(tmsc)\n",
    "        sol = tmso[tmsc.index(score)]\n",
    "        return sol\n",
    "    else:return 0"
   ]
  },
  {
   "cell_type": "code",
   "execution_count": 72,
   "metadata": {},
   "outputs": [],
   "source": [
    "def check_nbr(nbr, data,desire) : \n",
    "    new_nbr = []\n",
    "    for i in (nbr) : \n",
    "        a, b = Select_data(i,data)\n",
    "        if (a > desire) and (300<=b<=3300) :\n",
    "#             print(b)\n",
    "            new_nbr.append(i)\n",
    "    return new_nbr"
   ]
  },
  {
   "cell_type": "code",
   "execution_count": 73,
   "metadata": {},
   "outputs": [
    {
     "data": {
      "application/vnd.jupyter.widget-view+json": {
       "model_id": "466bb0590ce04ab2a42aff31baf7cd86",
       "version_major": 2,
       "version_minor": 0
      },
      "text/plain": [
       "HBox(children=(IntProgress(value=0, max=5), HTML(value='')))"
      ]
     },
     "metadata": {},
     "output_type": "display_data"
    },
    {
     "name": "stdout",
     "output_type": "stream",
     "text": [
      "1\n",
      "i는 1\n"
     ]
    },
    {
     "data": {
      "application/vnd.jupyter.widget-view+json": {
       "model_id": "6526a7b44bfa45b69ebaef7e1780d69d",
       "version_major": 2,
       "version_minor": 0
      },
      "text/plain": [
       "HBox(children=(IntProgress(value=0, max=3), HTML(value='')))"
      ]
     },
     "metadata": {},
     "output_type": "display_data"
    },
    {
     "name": "stdout",
     "output_type": "stream",
     "text": [
      "0.058573185429878785\n",
      "[[1, 43, 7]]\n",
      "i는 1\n"
     ]
    },
    {
     "data": {
      "application/vnd.jupyter.widget-view+json": {
       "model_id": "966f865dddbd41198715eb885f64e9ee",
       "version_major": 2,
       "version_minor": 0
      },
      "text/plain": [
       "HBox(children=(IntProgress(value=0, max=3), HTML(value='')))"
      ]
     },
     "metadata": {},
     "output_type": "display_data"
    },
    {
     "name": "stdout",
     "output_type": "stream",
     "text": [
      "i는 1\n"
     ]
    },
    {
     "data": {
      "application/vnd.jupyter.widget-view+json": {
       "model_id": "3d622b0aa569427eb6a966f8047942c9",
       "version_major": 2,
       "version_minor": 0
      },
      "text/plain": [
       "HBox(children=(IntProgress(value=0, max=3), HTML(value='')))"
      ]
     },
     "metadata": {},
     "output_type": "display_data"
    },
    {
     "name": "stdout",
     "output_type": "stream",
     "text": [
      "i는 1\n"
     ]
    },
    {
     "data": {
      "application/vnd.jupyter.widget-view+json": {
       "model_id": "7fb4027713f04fafb734bc3d37338bc2",
       "version_major": 2,
       "version_minor": 0
      },
      "text/plain": [
       "HBox(children=(IntProgress(value=0, max=7), HTML(value='')))"
      ]
     },
     "metadata": {},
     "output_type": "display_data"
    },
    {
     "name": "stdout",
     "output_type": "stream",
     "text": [
      "1\n",
      "0.058573185429878785\n",
      "[[1, 43, 7]]\n",
      "i는 1\n"
     ]
    },
    {
     "data": {
      "application/vnd.jupyter.widget-view+json": {
       "model_id": "0bff249e28244b7896abd6446759be0b",
       "version_major": 2,
       "version_minor": 0
      },
      "text/plain": [
       "HBox(children=(IntProgress(value=0, max=2), HTML(value='')))"
      ]
     },
     "metadata": {},
     "output_type": "display_data"
    },
    {
     "name": "stdout",
     "output_type": "stream",
     "text": [
      "i는 1\n"
     ]
    },
    {
     "data": {
      "application/vnd.jupyter.widget-view+json": {
       "model_id": "716c50d23b704d99b63453198b6b0156",
       "version_major": 2,
       "version_minor": 0
      },
      "text/plain": [
       "HBox(children=(IntProgress(value=0, max=5), HTML(value='')))"
      ]
     },
     "metadata": {},
     "output_type": "display_data"
    },
    {
     "name": "stdout",
     "output_type": "stream",
     "text": [
      "2\n",
      "0.058573185429878785\n",
      "[[1, 43, 7]]\n",
      "i는 1\n"
     ]
    },
    {
     "data": {
      "application/vnd.jupyter.widget-view+json": {
       "model_id": "c5f7cd8f252846de8bfc005e739f6b08",
       "version_major": 2,
       "version_minor": 0
      },
      "text/plain": [
       "HBox(children=(IntProgress(value=0, max=1), HTML(value='')))"
      ]
     },
     "metadata": {},
     "output_type": "display_data"
    },
    {
     "name": "stdout",
     "output_type": "stream",
     "text": [
      "i는 1\n"
     ]
    },
    {
     "data": {
      "application/vnd.jupyter.widget-view+json": {
       "model_id": "da677a79781942c8b412a72bd287a14a",
       "version_major": 2,
       "version_minor": 0
      },
      "text/plain": [
       "HBox(children=(IntProgress(value=0, max=1), HTML(value='')))"
      ]
     },
     "metadata": {},
     "output_type": "display_data"
    },
    {
     "name": "stdout",
     "output_type": "stream",
     "text": [
      "0\n",
      "0.05915071862273937\n",
      "[[1, 26, 10]]\n",
      "i는 1\n"
     ]
    },
    {
     "data": {
      "application/vnd.jupyter.widget-view+json": {
       "model_id": "91515e9cbfd84996877935f8c5c0bb14",
       "version_major": 2,
       "version_minor": 0
      },
      "text/plain": [
       "HBox(children=(IntProgress(value=0, max=3), HTML(value='')))"
      ]
     },
     "metadata": {},
     "output_type": "display_data"
    },
    {
     "name": "stdout",
     "output_type": "stream",
     "text": [
      "1\n",
      "0.05915071862273937\n",
      "[[1, 26, 10]]\n",
      "i는 1\n"
     ]
    },
    {
     "data": {
      "application/vnd.jupyter.widget-view+json": {
       "model_id": "48b4ee3e6f58423eb7b9ae428afc2f45",
       "version_major": 2,
       "version_minor": 0
      },
      "text/plain": [
       "HBox(children=(IntProgress(value=0, max=1), HTML(value='')))"
      ]
     },
     "metadata": {},
     "output_type": "display_data"
    },
    {
     "name": "stdout",
     "output_type": "stream",
     "text": [
      "2\n",
      "0.05915071862273937\n",
      "[[1, 26, 10]]\n",
      "i는 1\n"
     ]
    },
    {
     "data": {
      "application/vnd.jupyter.widget-view+json": {
       "model_id": "aa7e1d2447a54e6fb3b99435dcc94570",
       "version_major": 2,
       "version_minor": 0
      },
      "text/plain": [
       "HBox(children=(IntProgress(value=0, max=3), HTML(value='')))"
      ]
     },
     "metadata": {},
     "output_type": "display_data"
    },
    {
     "name": "stdout",
     "output_type": "stream",
     "text": [
      "i는 1\n"
     ]
    },
    {
     "data": {
      "application/vnd.jupyter.widget-view+json": {
       "model_id": "0f5e620f81674e71a2031f2bf68e2545",
       "version_major": 2,
       "version_minor": 0
      },
      "text/plain": [
       "HBox(children=(IntProgress(value=0, max=2), HTML(value='')))"
      ]
     },
     "metadata": {},
     "output_type": "display_data"
    },
    {
     "name": "stdout",
     "output_type": "stream",
     "text": [
      "i는 1\n"
     ]
    },
    {
     "data": {
      "application/vnd.jupyter.widget-view+json": {
       "model_id": "14e2f4001bfe4b8fb067b65518fe56e6",
       "version_major": 2,
       "version_minor": 0
      },
      "text/plain": [
       "HBox(children=(IntProgress(value=1, bar_style='info', max=1), HTML(value='')))"
      ]
     },
     "metadata": {},
     "output_type": "display_data"
    },
    {
     "name": "stdout",
     "output_type": "stream",
     "text": [
      "i는 1\n"
     ]
    },
    {
     "data": {
      "application/vnd.jupyter.widget-view+json": {
       "model_id": "cee1987d86bb43218838d9b4b7aa96ad",
       "version_major": 2,
       "version_minor": 0
      },
      "text/plain": [
       "HBox(children=(IntProgress(value=0, max=2), HTML(value='')))"
      ]
     },
     "metadata": {},
     "output_type": "display_data"
    },
    {
     "name": "stdout",
     "output_type": "stream",
     "text": [
      "i는 1\n"
     ]
    },
    {
     "data": {
      "application/vnd.jupyter.widget-view+json": {
       "model_id": "c9cab6591d9744728805175e97beffee",
       "version_major": 2,
       "version_minor": 0
      },
      "text/plain": [
       "HBox(children=(IntProgress(value=1, bar_style='info', max=1), HTML(value='')))"
      ]
     },
     "metadata": {},
     "output_type": "display_data"
    },
    {
     "name": "stdout",
     "output_type": "stream",
     "text": [
      "i는 1\n"
     ]
    },
    {
     "data": {
      "application/vnd.jupyter.widget-view+json": {
       "model_id": "f9a63800ba124087b6cd47d4dd2f9f64",
       "version_major": 2,
       "version_minor": 0
      },
      "text/plain": [
       "HBox(children=(IntProgress(value=0, max=1), HTML(value='')))"
      ]
     },
     "metadata": {},
     "output_type": "display_data"
    },
    {
     "name": "stdout",
     "output_type": "stream",
     "text": [
      "i는 1\n"
     ]
    },
    {
     "data": {
      "application/vnd.jupyter.widget-view+json": {
       "model_id": "ed7b0814b36c492f83bc16c0aeff47dd",
       "version_major": 2,
       "version_minor": 0
      },
      "text/plain": [
       "HBox(children=(IntProgress(value=1, bar_style='info', max=1), HTML(value='')))"
      ]
     },
     "metadata": {},
     "output_type": "display_data"
    },
    {
     "name": "stdout",
     "output_type": "stream",
     "text": [
      "i는 1\n"
     ]
    },
    {
     "data": {
      "application/vnd.jupyter.widget-view+json": {
       "model_id": "7b501c67f1e141ce91f0e3cbdccbce84",
       "version_major": 2,
       "version_minor": 0
      },
      "text/plain": [
       "HBox(children=(IntProgress(value=0, max=2), HTML(value='')))"
      ]
     },
     "metadata": {},
     "output_type": "display_data"
    },
    {
     "name": "stdout",
     "output_type": "stream",
     "text": [
      "i는 1\n"
     ]
    },
    {
     "data": {
      "application/vnd.jupyter.widget-view+json": {
       "model_id": "1c0ca4310dd64de6afa0b12f61e6064b",
       "version_major": 2,
       "version_minor": 0
      },
      "text/plain": [
       "HBox(children=(IntProgress(value=0, max=6), HTML(value='')))"
      ]
     },
     "metadata": {},
     "output_type": "display_data"
    },
    {
     "name": "stdout",
     "output_type": "stream",
     "text": [
      "i는 1\n"
     ]
    },
    {
     "data": {
      "application/vnd.jupyter.widget-view+json": {
       "model_id": "fea46208db2a4905ac45c7b155ebc178",
       "version_major": 2,
       "version_minor": 0
      },
      "text/plain": [
       "HBox(children=(IntProgress(value=1, bar_style='info', max=1), HTML(value='')))"
      ]
     },
     "metadata": {},
     "output_type": "display_data"
    },
    {
     "name": "stdout",
     "output_type": "stream",
     "text": [
      "i는 1\n"
     ]
    },
    {
     "data": {
      "application/vnd.jupyter.widget-view+json": {
       "model_id": "70deffc9498e41078675a15c8496c356",
       "version_major": 2,
       "version_minor": 0
      },
      "text/plain": [
       "HBox(children=(IntProgress(value=0, max=3), HTML(value='')))"
      ]
     },
     "metadata": {},
     "output_type": "display_data"
    },
    {
     "name": "stdout",
     "output_type": "stream",
     "text": [
      "i는 1\n"
     ]
    },
    {
     "data": {
      "application/vnd.jupyter.widget-view+json": {
       "model_id": "483b084647cc4782a36e16c0bed21436",
       "version_major": 2,
       "version_minor": 0
      },
      "text/plain": [
       "HBox(children=(IntProgress(value=0, max=1), HTML(value='')))"
      ]
     },
     "metadata": {},
     "output_type": "display_data"
    },
    {
     "name": "stdout",
     "output_type": "stream",
     "text": [
      "i는 1\n"
     ]
    },
    {
     "data": {
      "application/vnd.jupyter.widget-view+json": {
       "model_id": "a4935354cda1471ea6cdb72aecf4ba02",
       "version_major": 2,
       "version_minor": 0
      },
      "text/plain": [
       "HBox(children=(IntProgress(value=0, max=4), HTML(value='')))"
      ]
     },
     "metadata": {},
     "output_type": "display_data"
    },
    {
     "name": "stdout",
     "output_type": "stream",
     "text": [
      "i는 1\n"
     ]
    },
    {
     "data": {
      "application/vnd.jupyter.widget-view+json": {
       "model_id": "094d75b6f99845f789b4ec885c7b777b",
       "version_major": 2,
       "version_minor": 0
      },
      "text/plain": [
       "HBox(children=(IntProgress(value=0, max=1), HTML(value='')))"
      ]
     },
     "metadata": {},
     "output_type": "display_data"
    },
    {
     "name": "stdout",
     "output_type": "stream",
     "text": [
      "3\n",
      "0.05915071862273937\n",
      "[[1, 26, 10]]\n",
      "2\n",
      "i는 2\n"
     ]
    },
    {
     "data": {
      "application/vnd.jupyter.widget-view+json": {
       "model_id": "8f74e9345304470ea5f781ebbec5ecda",
       "version_major": 2,
       "version_minor": 0
      },
      "text/plain": [
       "HBox(children=(IntProgress(value=0, max=10), HTML(value='')))"
      ]
     },
     "metadata": {},
     "output_type": "display_data"
    },
    {
     "name": "stdout",
     "output_type": "stream",
     "text": [
      "0.059871220541923204\n",
      "[[1, 12, 10], [1, 44, 6]]\n",
      "i는 2\n"
     ]
    },
    {
     "data": {
      "application/vnd.jupyter.widget-view+json": {
       "model_id": "9379afb4b293485e9a11999ccd2fd1fb",
       "version_major": 2,
       "version_minor": 0
      },
      "text/plain": [
       "HBox(children=(IntProgress(value=0, max=12), HTML(value='')))"
      ]
     },
     "metadata": {},
     "output_type": "display_data"
    },
    {
     "name": "stdout",
     "output_type": "stream",
     "text": [
      "1\n",
      "0.059871220541923204\n",
      "[[1, 12, 10], [1, 44, 6]]\n",
      "i는 2\n"
     ]
    },
    {
     "data": {
      "application/vnd.jupyter.widget-view+json": {
       "model_id": "3076ad9cabcc4ced94fe5c678358f357",
       "version_major": 2,
       "version_minor": 0
      },
      "text/plain": [
       "HBox(children=(IntProgress(value=0, max=11), HTML(value='')))"
      ]
     },
     "metadata": {},
     "output_type": "display_data"
    },
    {
     "name": "stdout",
     "output_type": "stream",
     "text": [
      "0\n",
      "0.06341464968738354\n",
      "[[1, 40, 5], [1, 16, 7]]\n",
      "i는 2\n"
     ]
    },
    {
     "data": {
      "application/vnd.jupyter.widget-view+json": {
       "model_id": "28e95bf4873e4d378151ab93aec16a86",
       "version_major": 2,
       "version_minor": 0
      },
      "text/plain": [
       "HBox(children=(IntProgress(value=0, max=10), HTML(value='')))"
      ]
     },
     "metadata": {},
     "output_type": "display_data"
    },
    {
     "name": "stdout",
     "output_type": "stream",
     "text": [
      "i는 2\n"
     ]
    },
    {
     "data": {
      "application/vnd.jupyter.widget-view+json": {
       "model_id": "73da8f1ec0494967804ce4320e068f76",
       "version_major": 2,
       "version_minor": 0
      },
      "text/plain": [
       "HBox(children=(IntProgress(value=0, max=15), HTML(value='')))"
      ]
     },
     "metadata": {},
     "output_type": "display_data"
    },
    {
     "name": "stdout",
     "output_type": "stream",
     "text": [
      "1\n",
      "0.06341464968738354\n",
      "[[1, 40, 5], [1, 16, 7]]\n",
      "i는 2\n"
     ]
    },
    {
     "data": {
      "application/vnd.jupyter.widget-view+json": {
       "model_id": "89066dbfbebe498abdb31c6419ad888c",
       "version_major": 2,
       "version_minor": 0
      },
      "text/plain": [
       "HBox(children=(IntProgress(value=0, max=6), HTML(value='')))"
      ]
     },
     "metadata": {},
     "output_type": "display_data"
    },
    {
     "name": "stdout",
     "output_type": "stream",
     "text": [
      "2\n",
      "0.06341464968738354\n",
      "[[1, 40, 5], [1, 16, 7]]\n",
      "i는 2\n"
     ]
    },
    {
     "data": {
      "application/vnd.jupyter.widget-view+json": {
       "model_id": "cfadff92160148e4a47e8256b44cd7fa",
       "version_major": 2,
       "version_minor": 0
      },
      "text/plain": [
       "HBox(children=(IntProgress(value=0, max=9), HTML(value='')))"
      ]
     },
     "metadata": {},
     "output_type": "display_data"
    },
    {
     "name": "stdout",
     "output_type": "stream",
     "text": [
      "3\n",
      "0.06341464968738354\n",
      "[[1, 40, 5], [1, 16, 7]]\n",
      "3\n",
      "i는 3\n"
     ]
    },
    {
     "data": {
      "application/vnd.jupyter.widget-view+json": {
       "model_id": "b055aebd641c417c98b3eb20ccc7807b",
       "version_major": 2,
       "version_minor": 0
      },
      "text/plain": [
       "HBox(children=(IntProgress(value=0, max=17), HTML(value='')))"
      ]
     },
     "metadata": {},
     "output_type": "display_data"
    },
    {
     "name": "stdout",
     "output_type": "stream",
     "text": [
      "0.06759811222631548\n",
      "[[1, 43, 7], [1, 27, 10], [1, 38, 10]]\n",
      "i는 3\n"
     ]
    },
    {
     "data": {
      "application/vnd.jupyter.widget-view+json": {
       "model_id": "f2aa67035f984b6b8135d1bcae916138",
       "version_major": 2,
       "version_minor": 0
      },
      "text/plain": [
       "HBox(children=(IntProgress(value=0, max=15), HTML(value='')))"
      ]
     },
     "metadata": {},
     "output_type": "display_data"
    },
    {
     "name": "stdout",
     "output_type": "stream",
     "text": [
      "1\n",
      "0.06759811222631548\n",
      "[[1, 43, 7], [1, 27, 10], [1, 38, 10]]\n",
      "i는 3\n"
     ]
    },
    {
     "data": {
      "application/vnd.jupyter.widget-view+json": {
       "model_id": "eb311ee47e244f5390b5ad98c1798346",
       "version_major": 2,
       "version_minor": 0
      },
      "text/plain": [
       "HBox(children=(IntProgress(value=0, max=12), HTML(value='')))"
      ]
     },
     "metadata": {},
     "output_type": "display_data"
    },
    {
     "name": "stdout",
     "output_type": "stream",
     "text": [
      "2\n",
      "0.06759811222631548\n",
      "[[1, 43, 7], [1, 27, 10], [1, 38, 10]]\n",
      "i는 3\n"
     ]
    },
    {
     "data": {
      "application/vnd.jupyter.widget-view+json": {
       "model_id": "31d290c9e58d46be92e3e1fbaffb56a0",
       "version_major": 2,
       "version_minor": 0
      },
      "text/plain": [
       "HBox(children=(IntProgress(value=0, max=8), HTML(value='')))"
      ]
     },
     "metadata": {},
     "output_type": "display_data"
    },
    {
     "name": "stdout",
     "output_type": "stream",
     "text": [
      "3\n",
      "0.06759811222631548\n",
      "[[1, 43, 7], [1, 27, 10], [1, 38, 10]]\n",
      "4\n",
      "i는 4\n"
     ]
    },
    {
     "data": {
      "application/vnd.jupyter.widget-view+json": {
       "model_id": "00da7d38bf0b447ca0e7266715775320",
       "version_major": 2,
       "version_minor": 0
      },
      "text/plain": [
       "HBox(children=(IntProgress(value=0, max=19), HTML(value='')))"
      ]
     },
     "metadata": {},
     "output_type": "display_data"
    },
    {
     "name": "stdout",
     "output_type": "stream",
     "text": [
      "0.06759811222631548\n",
      "[[1, 43, 7], [1, 27, 10], [1, 38, 10]]\n",
      "i는 4\n"
     ]
    },
    {
     "data": {
      "application/vnd.jupyter.widget-view+json": {
       "model_id": "e971373fdbf441fe9b0848ce959c2a9a",
       "version_major": 2,
       "version_minor": 0
      },
      "text/plain": [
       "HBox(children=(IntProgress(value=0, max=16), HTML(value='')))"
      ]
     },
     "metadata": {},
     "output_type": "display_data"
    },
    {
     "name": "stdout",
     "output_type": "stream",
     "text": [
      "1\n",
      "0.06759811222631548\n",
      "[[1, 43, 7], [1, 27, 10], [1, 38, 10]]\n",
      "i는 4\n"
     ]
    },
    {
     "data": {
      "application/vnd.jupyter.widget-view+json": {
       "model_id": "bf6ac262131f4f63b3349b36c190cc40",
       "version_major": 2,
       "version_minor": 0
      },
      "text/plain": [
       "HBox(children=(IntProgress(value=0, max=12), HTML(value='')))"
      ]
     },
     "metadata": {},
     "output_type": "display_data"
    },
    {
     "name": "stdout",
     "output_type": "stream",
     "text": [
      "2\n",
      "0.06759811222631548\n",
      "[[1, 43, 7], [1, 27, 10], [1, 38, 10]]\n",
      "i는 4\n"
     ]
    },
    {
     "data": {
      "application/vnd.jupyter.widget-view+json": {
       "model_id": "6cd484eb6269464785b83480fbc2e955",
       "version_major": 2,
       "version_minor": 0
      },
      "text/plain": [
       "HBox(children=(IntProgress(value=0, max=18), HTML(value='')))"
      ]
     },
     "metadata": {},
     "output_type": "display_data"
    },
    {
     "name": "stdout",
     "output_type": "stream",
     "text": [
      "3\n",
      "0.06759811222631548\n",
      "[[1, 43, 7], [1, 27, 10], [1, 38, 10]]\n",
      "5\n",
      "i는 5\n"
     ]
    },
    {
     "data": {
      "application/vnd.jupyter.widget-view+json": {
       "model_id": "576f45e899494c03b0941ef8bf574af0",
       "version_major": 2,
       "version_minor": 0
      },
      "text/plain": [
       "HBox(children=(IntProgress(value=0, max=19), HTML(value='')))"
      ]
     },
     "metadata": {},
     "output_type": "display_data"
    },
    {
     "name": "stdout",
     "output_type": "stream",
     "text": [
      "0.06759811222631548\n",
      "[[1, 43, 7], [1, 27, 10], [1, 38, 10]]\n",
      "i는 5\n"
     ]
    },
    {
     "data": {
      "application/vnd.jupyter.widget-view+json": {
       "model_id": "bc59d963219048b98b9daff18850bfbe",
       "version_major": 2,
       "version_minor": 0
      },
      "text/plain": [
       "HBox(children=(IntProgress(value=1, bar_style='info', max=1), HTML(value='')))"
      ]
     },
     "metadata": {},
     "output_type": "display_data"
    },
    {
     "name": "stdout",
     "output_type": "stream",
     "text": [
      "i는 5\n"
     ]
    },
    {
     "data": {
      "application/vnd.jupyter.widget-view+json": {
       "model_id": "45318938c9c64f22b038c9c002ad70a6",
       "version_major": 2,
       "version_minor": 0
      },
      "text/plain": [
       "HBox(children=(IntProgress(value=1, bar_style='info', max=1), HTML(value='')))"
      ]
     },
     "metadata": {},
     "output_type": "display_data"
    },
    {
     "name": "stdout",
     "output_type": "stream",
     "text": [
      "i는 5\n"
     ]
    },
    {
     "data": {
      "application/vnd.jupyter.widget-view+json": {
       "model_id": "39fd6c82f1b94e129acf12a50e8b45a2",
       "version_major": 2,
       "version_minor": 0
      },
      "text/plain": [
       "HBox(children=(IntProgress(value=1, bar_style='info', max=1), HTML(value='')))"
      ]
     },
     "metadata": {},
     "output_type": "display_data"
    },
    {
     "name": "stdout",
     "output_type": "stream",
     "text": [
      "i는 5\n"
     ]
    },
    {
     "data": {
      "application/vnd.jupyter.widget-view+json": {
       "model_id": "a75e7155a0404134b901d15327181ea9",
       "version_major": 2,
       "version_minor": 0
      },
      "text/plain": [
       "HBox(children=(IntProgress(value=1, bar_style='info', max=1), HTML(value='')))"
      ]
     },
     "metadata": {},
     "output_type": "display_data"
    },
    {
     "name": "stdout",
     "output_type": "stream",
     "text": [
      "i는 5\n"
     ]
    },
    {
     "data": {
      "application/vnd.jupyter.widget-view+json": {
       "model_id": "723366449d4047a4b40849fb724846ee",
       "version_major": 2,
       "version_minor": 0
      },
      "text/plain": [
       "HBox(children=(IntProgress(value=1, bar_style='info', max=1), HTML(value='')))"
      ]
     },
     "metadata": {},
     "output_type": "display_data"
    },
    {
     "name": "stdout",
     "output_type": "stream",
     "text": [
      "i는 5\n"
     ]
    },
    {
     "data": {
      "application/vnd.jupyter.widget-view+json": {
       "model_id": "2f1c52769f5c47ca85a799974aa19425",
       "version_major": 2,
       "version_minor": 0
      },
      "text/plain": [
       "HBox(children=(IntProgress(value=1, bar_style='info', max=1), HTML(value='')))"
      ]
     },
     "metadata": {},
     "output_type": "display_data"
    },
    {
     "name": "stdout",
     "output_type": "stream",
     "text": [
      "i는 5\n"
     ]
    },
    {
     "data": {
      "application/vnd.jupyter.widget-view+json": {
       "model_id": "f9081565f64c46ba87f4f414067b5b97",
       "version_major": 2,
       "version_minor": 0
      },
      "text/plain": [
       "HBox(children=(IntProgress(value=1, bar_style='info', max=1), HTML(value='')))"
      ]
     },
     "metadata": {},
     "output_type": "display_data"
    },
    {
     "name": "stdout",
     "output_type": "stream",
     "text": [
      "i는 5\n"
     ]
    },
    {
     "data": {
      "application/vnd.jupyter.widget-view+json": {
       "model_id": "19fb4ab62bf241278a63b5f33aa0e3ab",
       "version_major": 2,
       "version_minor": 0
      },
      "text/plain": [
       "HBox(children=(IntProgress(value=1, bar_style='info', max=1), HTML(value='')))"
      ]
     },
     "metadata": {},
     "output_type": "display_data"
    },
    {
     "name": "stdout",
     "output_type": "stream",
     "text": [
      "i는 5\n"
     ]
    },
    {
     "data": {
      "application/vnd.jupyter.widget-view+json": {
       "model_id": "8650f21ae1534e9fac0a2454741b961f",
       "version_major": 2,
       "version_minor": 0
      },
      "text/plain": [
       "HBox(children=(IntProgress(value=1, bar_style='info', max=1), HTML(value='')))"
      ]
     },
     "metadata": {},
     "output_type": "display_data"
    },
    {
     "name": "stdout",
     "output_type": "stream",
     "text": [
      "i는 5\n"
     ]
    },
    {
     "data": {
      "application/vnd.jupyter.widget-view+json": {
       "model_id": "1e525d63a06549adbeae8770a8489fbc",
       "version_major": 2,
       "version_minor": 0
      },
      "text/plain": [
       "HBox(children=(IntProgress(value=1, bar_style='info', max=1), HTML(value='')))"
      ]
     },
     "metadata": {},
     "output_type": "display_data"
    },
    {
     "name": "stdout",
     "output_type": "stream",
     "text": [
      "i는 5\n"
     ]
    },
    {
     "ename": "KeyboardInterrupt",
     "evalue": "",
     "output_type": "error",
     "traceback": [
      "\u001b[1;31m---------------------------------------------------------------------------\u001b[0m",
      "\u001b[1;31mKeyboardInterrupt\u001b[0m                         Traceback (most recent call last)",
      "\u001b[1;32m<ipython-input-73-37d07c04c35f>\u001b[0m in \u001b[0;36m<module>\u001b[1;34m\u001b[0m\n\u001b[0;32m     34\u001b[0m             \u001b[1;32melse\u001b[0m \u001b[1;33m:\u001b[0m\u001b[1;33m\u001b[0m\u001b[1;33m\u001b[0m\u001b[0m\n\u001b[0;32m     35\u001b[0m                 \u001b[0minsol\u001b[0m \u001b[1;33m=\u001b[0m \u001b[0mMake_insol\u001b[0m\u001b[1;33m(\u001b[0m\u001b[0mi\u001b[0m\u001b[1;33m)\u001b[0m\u001b[1;33m\u001b[0m\u001b[1;33m\u001b[0m\u001b[0m\n\u001b[1;32m---> 36\u001b[1;33m                 \u001b[0mnbr\u001b[0m \u001b[1;33m=\u001b[0m \u001b[0mMake_neighbor_sol\u001b[0m\u001b[1;33m(\u001b[0m\u001b[0minsol\u001b[0m\u001b[1;33m,\u001b[0m\u001b[1;36m40\u001b[0m\u001b[1;33m*\u001b[0m\u001b[1;33m(\u001b[0m\u001b[0mi\u001b[0m\u001b[1;33m*\u001b[0m\u001b[0mi\u001b[0m\u001b[1;33m)\u001b[0m\u001b[1;33m)\u001b[0m\u001b[1;33m\u001b[0m\u001b[1;33m\u001b[0m\u001b[0m\n\u001b[0m\u001b[0;32m     37\u001b[0m \u001b[1;33m\u001b[0m\u001b[0m\n\u001b[0;32m     38\u001b[0m         \u001b[0msol_l\u001b[0m \u001b[1;33m=\u001b[0m \u001b[1;33m[\u001b[0m\u001b[1;33m]\u001b[0m\u001b[1;33m\u001b[0m\u001b[1;33m\u001b[0m\u001b[0m\n",
      "\u001b[1;32m<ipython-input-7-970364c6dd30>\u001b[0m in \u001b[0;36mMake_neighbor_sol\u001b[1;34m(sol, num)\u001b[0m\n\u001b[0;32m      4\u001b[0m     \u001b[0ma\u001b[0m \u001b[1;33m=\u001b[0m \u001b[0mlen\u001b[0m\u001b[1;33m(\u001b[0m\u001b[0msol\u001b[0m\u001b[1;33m)\u001b[0m\u001b[1;33m\u001b[0m\u001b[1;33m\u001b[0m\u001b[0m\n\u001b[0;32m      5\u001b[0m     \u001b[1;32mfor\u001b[0m \u001b[0mi\u001b[0m \u001b[1;32min\u001b[0m \u001b[0mrange\u001b[0m\u001b[1;33m(\u001b[0m\u001b[0mnum\u001b[0m\u001b[1;33m)\u001b[0m\u001b[1;33m:\u001b[0m\u001b[1;33m\u001b[0m\u001b[1;33m\u001b[0m\u001b[0m\n\u001b[1;32m----> 6\u001b[1;33m         \u001b[0mt\u001b[0m \u001b[1;33m=\u001b[0m \u001b[0mMake_insol\u001b[0m\u001b[1;33m(\u001b[0m\u001b[0ma\u001b[0m\u001b[1;33m)\u001b[0m\u001b[1;33m\u001b[0m\u001b[1;33m\u001b[0m\u001b[0m\n\u001b[0m\u001b[0;32m      7\u001b[0m         \u001b[1;32mif\u001b[0m \u001b[0mt\u001b[0m\u001b[1;33m[\u001b[0m\u001b[1;33m:\u001b[0m\u001b[1;36m3\u001b[0m\u001b[1;33m]\u001b[0m \u001b[1;32mnot\u001b[0m \u001b[1;32min\u001b[0m \u001b[0mtag_num_tabu\u001b[0m\u001b[1;33m:\u001b[0m\u001b[1;33m\u001b[0m\u001b[1;33m\u001b[0m\u001b[0m\n\u001b[0;32m      8\u001b[0m             \u001b[0mtot_sol\u001b[0m\u001b[1;33m.\u001b[0m\u001b[0mappend\u001b[0m\u001b[1;33m(\u001b[0m\u001b[0mMake_insol\u001b[0m\u001b[1;33m(\u001b[0m\u001b[0ma\u001b[0m\u001b[1;33m)\u001b[0m\u001b[1;33m)\u001b[0m\u001b[1;33m\u001b[0m\u001b[1;33m\u001b[0m\u001b[0m\n",
      "\u001b[1;32m<ipython-input-37-ae1a21a2af18>\u001b[0m in \u001b[0;36mMake_insol\u001b[1;34m(sol_num)\u001b[0m\n\u001b[0;32m     13\u001b[0m             \u001b[1;32mif\u001b[0m \u001b[0mnum\u001b[0m \u001b[1;32mnot\u001b[0m \u001b[1;32min\u001b[0m \u001b[0mnot_search\u001b[0m\u001b[1;33m:\u001b[0m\u001b[1;33m\u001b[0m\u001b[1;33m\u001b[0m\u001b[0m\n\u001b[0;32m     14\u001b[0m                 \u001b[0md\u001b[0m \u001b[1;33m=\u001b[0m \u001b[1;33m[\u001b[0m\u001b[0mnp\u001b[0m\u001b[1;33m.\u001b[0m\u001b[0mrandom\u001b[0m\u001b[1;33m.\u001b[0m\u001b[0mrandint\u001b[0m\u001b[1;33m(\u001b[0m\u001b[1;36m2\u001b[0m\u001b[1;33m)\u001b[0m\u001b[1;33m,\u001b[0m\u001b[0mnum\u001b[0m\u001b[1;33m,\u001b[0m\u001b[0mnp\u001b[0m\u001b[1;33m.\u001b[0m\u001b[0mrandom\u001b[0m\u001b[1;33m.\u001b[0m\u001b[0mrandint\u001b[0m\u001b[1;33m(\u001b[0m\u001b[1;36m1\u001b[0m\u001b[1;33m,\u001b[0m\u001b[1;36m11\u001b[0m\u001b[1;33m)\u001b[0m\u001b[1;33m]\u001b[0m\u001b[1;33m\u001b[0m\u001b[1;33m\u001b[0m\u001b[0m\n\u001b[1;32m---> 15\u001b[1;33m                 \u001b[0msol\u001b[0m\u001b[1;33m.\u001b[0m\u001b[0mappend\u001b[0m\u001b[1;33m(\u001b[0m\u001b[0md\u001b[0m\u001b[1;33m)\u001b[0m\u001b[1;33m\u001b[0m\u001b[1;33m\u001b[0m\u001b[0m\n\u001b[0m\u001b[0;32m     16\u001b[0m                 \u001b[0mnot_search\u001b[0m\u001b[1;33m.\u001b[0m\u001b[0mappend\u001b[0m\u001b[1;33m(\u001b[0m\u001b[0md\u001b[0m\u001b[1;33m[\u001b[0m\u001b[1;36m1\u001b[0m\u001b[1;33m]\u001b[0m\u001b[1;33m)\u001b[0m\u001b[1;33m\u001b[0m\u001b[1;33m\u001b[0m\u001b[0m\n\u001b[0;32m     17\u001b[0m                 \u001b[0msol_num\u001b[0m\u001b[1;33m-=\u001b[0m\u001b[1;36m1\u001b[0m\u001b[1;33m\u001b[0m\u001b[1;33m\u001b[0m\u001b[0m\n",
      "\u001b[1;31mKeyboardInterrupt\u001b[0m: "
     ]
    }
   ],
   "source": [
    "start = time.time()\n",
    "\n",
    "\n",
    "graph_dot = []\n",
    "tag_num_tabu = []\n",
    "\n",
    "glo_sol = []\n",
    "glo_scr = []\n",
    "desire = base_score\n",
    "for i in tqdm_notebook(range(1,6)):\n",
    "    print(i)\n",
    "    \n",
    "    tag_num_tabu = []\n",
    "    sol_l = []\n",
    "    sol_s = []\n",
    "    real_sol = []\n",
    "    real_scr = []\n",
    "    flg=True\n",
    "    cnt = 0\n",
    "    cnt2 = 0\n",
    "    while(flg):\n",
    "        cnt+=1\n",
    "        print('i는',i)\n",
    "        if cnt == 1:\n",
    "            insol = Make_insol(i)\n",
    "            glo_sol.append(insol)\n",
    "            glo_scr.append(Select_data(insol,data)[0])\n",
    "            nbr = Make_neighbor_sol(insol,40*(i*i))\n",
    "            \n",
    "        else:\n",
    "            if len(sol_s):\n",
    "                insol = sol_l[sol_s.index(max(sol_s))]\n",
    "                nbr = Make_neighbor_sol(insol,40*(i*i))\n",
    "            else : \n",
    "                insol = Make_insol(i)\n",
    "                nbr = Make_neighbor_sol(insol,40*(i*i))\n",
    "                \n",
    "        sol_l = []\n",
    "        sol_s = []\n",
    "        #######여기서 nbr 열망함수 적용 \n",
    "        nbr = check_nbr(nbr,data,desire)\n",
    "        for j in tqdm_notebook(nbr):\n",
    "            \n",
    "            b_nbr = Make_valneighbor(j, 5*(i))\n",
    "            b_nbr = check_nbr(b_nbr,data,desire)\n",
    "            sol = find_local_sol(b_nbr)\n",
    "            if sol : \n",
    "                \n",
    "                a,b = Select_data(sol,data)\n",
    "                graph_dot.append(a)\n",
    "                sol_l.append(sol)\n",
    "                sol_s.append(a)\n",
    "                \n",
    "        if len(sol_s):\n",
    "            s = max(sol_s)\n",
    "            if cnt >= 2 :\n",
    "                if max(glo_scr) >= s:\n",
    "                    cnt2 += 1\n",
    "                    if cnt2 == 3:\n",
    "                        flg =False\n",
    "                else:\n",
    "                    cnt2 = 0\n",
    "                print(cnt2)\n",
    "        else :\n",
    "            continue        \n",
    "        \n",
    "      \n",
    "        glo_sol.append(sol_l[sol_s.index(s)])\n",
    "        glo_scr.append(s)\n",
    "        desire = (sum(glo_scr)+base_score) / (len(glo_scr)+1)\n",
    "#         print(glo_scr)\n",
    "\n",
    "        print(max(glo_scr))\n",
    "        print(glo_sol[glo_scr.index(max(glo_scr))])\n",
    "print(\"time :\", time.time() - start)"
   ]
  },
  {
   "cell_type": "code",
   "execution_count": 74,
   "metadata": {},
   "outputs": [
    {
     "data": {
      "image/png": "[encoded data removed]",
      "text/plain": [
       "<Figure size 432x288 with 1 Axes>"
      ]
     },
     "metadata": {
      "needs_background": "light"
     },
     "output_type": "display_data"
    }
   ],
   "source": [
    "q_plot = []\n",
    "x_plot = []\n",
    "max_plt = []\n",
    "mean_plt=[]\n",
    "for i in range(len(graph_dot)):\n",
    "    q_plot.append(graph_dot[i])\n",
    "    x_plot.append(i)\n",
    "    max_plt.append(max(q_plot))\n",
    "    mean_plt.append(0.05793219386042783)\n",
    "plt.figure()\n",
    "plt.plot(x_plot, q_plot,label = 'sol')\n",
    "plt.plot(x_plot, max_plt, label = 'Max_sol')\n",
    "plt.plot(x_plot, mean_plt,label = 'All_mean',linestyle = '--')\n",
    "\n",
    "plt.xlabel('neighbor_solution')\n",
    "plt.ylabel('Score')\n",
    "plt.title('final_model')\n",
    "plt.legend()\n",
    "plt.show()"
   ]
  },
  {
   "cell_type": "code",
   "execution_count": 47,
   "metadata": {},
   "outputs": [
    {
     "name": "stdout",
     "output_type": "stream",
     "text": [
      "     스코어 :  0.05793      NTU: 100000        해 :  * [D29 , 1] \n",
      "     스코어 :  0.05857      NTU: 1069        해 :  * [D43 , 7] \n",
      "     스코어 :  0.059      NTU: 1082        해 :  * [D28 , 10] \n",
      "     스코어 :  0.05915      NTU: 1050        해 :  * [D26 , 10] \n",
      "     스코어 :  0.05915      NTU: 1050        해 :  * [D26 , 10] \n",
      "     스코어 :  0.05915      NTU: 1050        해 :  * [D26 , 10] \n",
      "     스코어 :  0.05915      NTU: 1050        해 :  * [D26 , 10] \n",
      "     스코어 :  0.05667      NTU: 18800        해 :  * [D20 , 8] - [D24 , 7] \n",
      "     스코어 :  0.06117      NTU: 983        해 :  * [D17 , 8] * [D30 , 9] \n",
      "     스코어 :  0.05948      NTU: 918        해 :  * [D16 , 8] * [D17 , 7] \n",
      "     스코어 :  0.0625      NTU: 1068        해 :  * [D15 , 10] * [D30 , 2] \n",
      "     스코어 :  0.05965      NTU: 987        해 :  * [D24 , 2] * [D15 , 7] \n",
      "     스코어 :  0.05952      NTU: 1084        해 :  * [D11 , 7] * [D42 , 9] \n",
      "     스코어 :  0.05952      NTU: 973        해 :  * [D24 , 7] * [D4 , 6] \n",
      "     스코어 :  0.05596      NTU: 1529        해 :  * [D18 , 7] * [D10 , 3] - [D21 , 2] \n",
      "     스코어 :  0.06481      NTU: 913        해 :  * [D33 , 4] * [D39 , 7] * [D6 , 4] \n",
      "     스코어 :  0.06155      NTU: 967        해 :  * [D24 , 5] * [D12 , 8] - [D47 , 8] \n",
      "     스코어 :  0.06306      NTU: 1064        해 :  * [D15 , 5] * [D21 , 1] * [D38 , 5] \n"
     ]
    }
   ],
   "source": [
    "for i in range(len(glo_sol)):\n",
    "    \n",
    "    str_a = ''\n",
    "    str_tm = ''\n",
    "    a,b = Select_data(glo_sol[i],data)\n",
    "    for j in range(len(glo_sol[i])):\n",
    "        q = glo_sol[i][j]\n",
    "        \n",
    "        t = ''\n",
    "        if q[0]==1:\n",
    "            t = '*'\n",
    "        else:\n",
    "            t = '-'\n",
    "        str_tm+= t\n",
    "        str_tm+=' ['\n",
    "        str_tm+='D'\n",
    "        str_tm+= str(q[1])\n",
    "        str_tm+= ' , '\n",
    "        str_tm+= str(q[2])\n",
    "        str_tm+='] '\n",
    "    str_a += str_tm\n",
    "    print('     스코어 : ',round(a,5),      '     NTU:', b,'       해 : '  ,str_a, )"
   ]
  },
  {
   "cell_type": "code",
   "execution_count": null,
   "metadata": {},
   "outputs": [],
   "source": []
  }
 ],
 "metadata": {
  "kernelspec": {
   "display_name": "Python 3",
   "language": "python",
   "name": "python3"
  },
  "language_info": {
   "codemirror_mode": {
    "name": "ipython",
    "version": 3
   },
   "file_extension": ".py",
   "mimetype": "text/x-python",
   "name": "python",
   "nbconvert_exporter": "python",
   "pygments_lexer": "ipython3",
   "version": "3.6.8"
  }
 },
 "nbformat": 4,
 "nbformat_minor": 2
}
