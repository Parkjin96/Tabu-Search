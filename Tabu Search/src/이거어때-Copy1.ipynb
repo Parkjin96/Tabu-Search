{
 "cells": [
  {
   "cell_type": "code",
   "execution_count": 9,
   "metadata": {},
   "outputs": [
    {
     "data": {
      "text/plain": [
       "True"
      ]
     },
     "execution_count": 9,
     "metadata": {},
     "output_type": "execute_result"
    }
   ],
   "source": [
    "[[1,2,3],[2,3,4],[5,3,2]][0:2] == [[1,2,3],[2,3,4]] "
   ]
  },
  {
   "cell_type": "code",
   "execution_count": 1,
   "metadata": {},
   "outputs": [],
   "source": [
    "from tqdm import tqdm_notebook\n",
    "import random\n",
    "import pandas as pd\n",
    "import numpy as np\n",
    "import time\n",
    "import matplotlib.pyplot as plt\n",
    "import warnings\n",
    "\n",
    "warnings.filterwarnings(action='ignore') \n",
    "\n",
    "\n",
    "\n",
    "data = pd.read_csv('x.csv')\n",
    "y = pd.read_csv('y.csv')\n",
    "max_num = 1100\n",
    "min_num = 900\n",
    "data['T'] = y\n",
    "tabu_list = []\n",
    "\n",
    "tag_tabu = []\n",
    "base_score = data['T'].mean()\n",
    "all_t = []"
   ]
  },
  {
   "cell_type": "code",
   "execution_count": 2,
   "metadata": {},
   "outputs": [],
   "source": [
    "def good_neighbor_sol(sol,num):\n",
    "    tot_sol = []\n",
    "    t = sol.copy()\n",
    "    a = len(sol)\n",
    "    tag = []\n",
    "    for i in sol:\n",
    "        tag.append(i[1])\n",
    "    for i in range(num):    \n",
    "        for j in range(a):\n",
    "            \n",
    "            d = True\n",
    "            while(d):\n",
    "                tm = Make_insol(1)[0]\n",
    "                if tm[1] not in tag:\n",
    "                    sol[j] = tm\n",
    "#                     print('sol:',sol)\n",
    "                    tot_sol.append(sol)\n",
    "                    sol = t.copy()\n",
    "#                     print('sol2:',sol)\n",
    "                    d = False\n",
    "    return tot_sol"
   ]
  },
  {
   "cell_type": "code",
   "execution_count": 3,
   "metadata": {},
   "outputs": [],
   "source": [
    "def check_nbr(nbr, data,desire) : \n",
    "    new_nbr = []\n",
    "    for i in nbr : \n",
    "        a, b = Select_data(i,data)\n",
    "        if a > desire : \n",
    "            new_nbr.append(i)\n",
    "    return new_nbr"
   ]
  },
  {
   "cell_type": "code",
   "execution_count": 4,
   "metadata": {},
   "outputs": [],
   "source": [
    "def find_local_sol(nbr):\n",
    "    tmsc = []\n",
    "    tmso = []\n",
    "    for i in nbr:\n",
    "        a,b = Select_data(i,data)\n",
    "        if min_num<=b<=max_num:\n",
    "            tmsc.append(a)\n",
    "            tmso.append(i)\n",
    "        else : all_t.append(i)\n",
    "    if len(tmsc):\n",
    "        score = max(tmsc)\n",
    "        sol = tmso[tmsc.index(score)]\n",
    "        return sol\n",
    "    else:return 0"
   ]
  },
  {
   "cell_type": "code",
   "execution_count": 5,
   "metadata": {},
   "outputs": [],
   "source": [
    "def Make_valneighbor(sol,num):\n",
    "    tot_num_list = []\n",
    "    nbr_sol = []\n",
    "    tem = []\n",
    "    for i in range(len(sol)):\n",
    "        tem.append(sol[i][2])\n",
    "    tot_num_list.append(tem)\n",
    "    nbr = []\n",
    "    num1 = num\n",
    "    while(num) :\n",
    "        num-=1\n",
    "        flg = True\n",
    "        cnt = 0\n",
    "        while(flg):\n",
    "            cnt+=1\n",
    "            tem_ne = []\n",
    "            for i in range(len(sol)):\n",
    "                tem_ne.append(np.random.randint(1,11))\n",
    "            if (tem_ne not in tot_num_list) or cnt ==5:\n",
    "                flg = False\n",
    "                nbr.append(tem_ne)\n",
    "                tot_num_list.append(tem_ne)\n",
    "    for i in range(num1):\n",
    "        nbr_sol.append([])\n",
    "     \n",
    "        for j in range(len(sol)):\n",
    "          \n",
    "            nbr_sol[i].append([sol[j][0],sol[j][1],nbr[i][j]])\n",
    "#     print(nbr_sol)\n",
    "    return(nbr_sol)"
   ]
  },
  {
   "cell_type": "code",
   "execution_count": 6,
   "metadata": {},
   "outputs": [],
   "source": [
    "def Make_neighbor_sol(sol,num):\n",
    "    tot_sol = []\n",
    "#     tot_sol.append(sol)\n",
    "    a = len(sol)\n",
    "    for i in range(num):\n",
    "        t = Make_insol(a)\n",
    "#         if t[:3] not in tag_num_tabu:\n",
    "        tot_sol.append(t)\n",
    "        \n",
    "    return tot_sol"
   ]
  },
  {
   "cell_type": "code",
   "execution_count": 7,
   "metadata": {},
   "outputs": [],
   "source": [
    "def Make_neighbor_sol2(sol,num):\n",
    "    tot_sol = []\n",
    "#     tot_sol.append(sol)\n",
    "    a = len(sol)\n",
    "    for i in range(num):\n",
    "        t = Make_insol(a)\n",
    "        if t[:2] not in tag_num_tabu:\n",
    "            tot_sol.append(Make_insol(a))\n",
    "        \n",
    "    return tot_sol"
   ]
  },
  {
   "cell_type": "code",
   "execution_count": 8,
   "metadata": {},
   "outputs": [],
   "source": [
    "def Select_data(sol,data):\n",
    "    local_data = data.copy()\n",
    "    for i in range(len(sol)):\n",
    "        if sol[i][0] :\n",
    "            new_data = local_data[data.iloc[:,sol[i][1]] >= sol[i][2]]\n",
    "        else:\n",
    "            new_data = local_data[data.iloc[:,sol[i][1]] < sol[i][2]]\n",
    "        local_data = new_data\n",
    "    score = new_data['T'].mean()\n",
    "    len_data = len(new_data)\n",
    "    return score, len_data"
   ]
  },
  {
   "cell_type": "code",
   "execution_count": 9,
   "metadata": {},
   "outputs": [],
   "source": [
    "def Make_detail_neighbor(sol,n):\n",
    "    tot = []\n",
    "    b = good_neighbor_sol(sol,7*n)\n",
    "    for i in b:\n",
    "        tot += Make_valneighbor(i,7*n)\n",
    "    return tot"
   ]
  },
  {
   "cell_type": "code",
   "execution_count": 10,
   "metadata": {},
   "outputs": [],
   "source": [
    "def Make_insol(sol_num):\n",
    "    sol = []\n",
    "    for i in range(sol_num):\n",
    "        if i ==0:\n",
    "            d = [1,np.random.randint(50),np.random.randint(1,11)]\n",
    "            sol.append(d)\n",
    "#             tag_num_tabu.append(d[:2])\n",
    "        else:\n",
    "            d = [np.random.randint(2),np.random.randint(50),np.random.randint(1,11)]\n",
    "            sol.append(d)\n",
    "#             tag_num_tabu.append(d[:2])\n",
    "    t = []\n",
    "    for i in range(len(sol)):\n",
    "        t.append(sol[i][:2])\n",
    "    if t not in tag_num_tabu:\n",
    "        tag_num_tabu.append(t)\n",
    "        return sol\n",
    "    else : \n",
    "        Make_insol(sol_num)"
   ]
  },
  {
   "cell_type": "code",
   "execution_count": 11,
   "metadata": {},
   "outputs": [],
   "source": [
    "tag_num_tabu = []"
   ]
  },
  {
   "cell_type": "code",
   "execution_count": 12,
   "metadata": {},
   "outputs": [
    {
     "data": {
      "application/vnd.jupyter.widget-view+json": {
       "model_id": "4c97c6e288c6416a99684897f91f43a1",
       "version_major": 2,
       "version_minor": 0
      },
      "text/plain": [
       "HBox(children=(IntProgress(value=0, max=5), HTML(value='')))"
      ]
     },
     "metadata": {},
     "output_type": "display_data"
    },
    {
     "name": "stdout",
     "output_type": "stream",
     "text": [
      "i는 1\n",
      "\n"
     ]
    },
    {
     "ename": "TypeError",
     "evalue": "'NoneType' object is not subscriptable",
     "output_type": "error",
     "traceback": [
      "\u001b[1;31m---------------------------------------------------------------------------\u001b[0m",
      "\u001b[1;31mTypeError\u001b[0m                                 Traceback (most recent call last)",
      "\u001b[1;32m<ipython-input-12-2871eaca5f58>\u001b[0m in \u001b[0;36m<module>\u001b[1;34m\u001b[0m\n\u001b[0;32m     27\u001b[0m             \u001b[0mnbr\u001b[0m \u001b[1;33m=\u001b[0m \u001b[0mMake_neighbor_sol\u001b[0m\u001b[1;33m(\u001b[0m\u001b[0minsol\u001b[0m\u001b[1;33m,\u001b[0m\u001b[1;36m40\u001b[0m\u001b[1;33m*\u001b[0m\u001b[1;33m(\u001b[0m\u001b[0mi\u001b[0m\u001b[1;33m*\u001b[0m\u001b[0mi\u001b[0m\u001b[1;33m)\u001b[0m\u001b[1;33m)\u001b[0m\u001b[1;33m\u001b[0m\u001b[1;33m\u001b[0m\u001b[0m\n\u001b[0;32m     28\u001b[0m             \u001b[1;32mfor\u001b[0m \u001b[0mq\u001b[0m \u001b[1;32min\u001b[0m \u001b[0mnbr\u001b[0m\u001b[1;33m:\u001b[0m\u001b[1;33m\u001b[0m\u001b[1;33m\u001b[0m\u001b[0m\n\u001b[1;32m---> 29\u001b[1;33m                 \u001b[0mt\u001b[0m \u001b[1;33m=\u001b[0m \u001b[0mMake_detail_neighbor\u001b[0m\u001b[1;33m(\u001b[0m\u001b[0mq\u001b[0m\u001b[1;33m,\u001b[0m\u001b[0mi\u001b[0m\u001b[1;33m)\u001b[0m\u001b[1;33m\u001b[0m\u001b[1;33m\u001b[0m\u001b[0m\n\u001b[0m\u001b[0;32m     30\u001b[0m                 \u001b[0mnbr\u001b[0m\u001b[1;33m+=\u001b[0m\u001b[0mt\u001b[0m\u001b[1;33m\u001b[0m\u001b[1;33m\u001b[0m\u001b[0m\n\u001b[0;32m     31\u001b[0m \u001b[1;33m\u001b[0m\u001b[0m\n",
      "\u001b[1;32m<ipython-input-9-5a1037f93b7d>\u001b[0m in \u001b[0;36mMake_detail_neighbor\u001b[1;34m(sol, n)\u001b[0m\n\u001b[0;32m      1\u001b[0m \u001b[1;32mdef\u001b[0m \u001b[0mMake_detail_neighbor\u001b[0m\u001b[1;33m(\u001b[0m\u001b[0msol\u001b[0m\u001b[1;33m,\u001b[0m\u001b[0mn\u001b[0m\u001b[1;33m)\u001b[0m\u001b[1;33m:\u001b[0m\u001b[1;33m\u001b[0m\u001b[1;33m\u001b[0m\u001b[0m\n\u001b[0;32m      2\u001b[0m     \u001b[0mtot\u001b[0m \u001b[1;33m=\u001b[0m \u001b[1;33m[\u001b[0m\u001b[1;33m]\u001b[0m\u001b[1;33m\u001b[0m\u001b[1;33m\u001b[0m\u001b[0m\n\u001b[1;32m----> 3\u001b[1;33m     \u001b[0mb\u001b[0m \u001b[1;33m=\u001b[0m \u001b[0mgood_neighbor_sol\u001b[0m\u001b[1;33m(\u001b[0m\u001b[0msol\u001b[0m\u001b[1;33m,\u001b[0m\u001b[1;36m7\u001b[0m\u001b[1;33m*\u001b[0m\u001b[0mn\u001b[0m\u001b[1;33m)\u001b[0m\u001b[1;33m\u001b[0m\u001b[1;33m\u001b[0m\u001b[0m\n\u001b[0m\u001b[0;32m      4\u001b[0m     \u001b[1;32mfor\u001b[0m \u001b[0mi\u001b[0m \u001b[1;32min\u001b[0m \u001b[0mb\u001b[0m\u001b[1;33m:\u001b[0m\u001b[1;33m\u001b[0m\u001b[1;33m\u001b[0m\u001b[0m\n\u001b[0;32m      5\u001b[0m         \u001b[0mtot\u001b[0m \u001b[1;33m+=\u001b[0m \u001b[0mMake_valneighbor\u001b[0m\u001b[1;33m(\u001b[0m\u001b[0mi\u001b[0m\u001b[1;33m,\u001b[0m\u001b[1;36m7\u001b[0m\u001b[1;33m*\u001b[0m\u001b[0mn\u001b[0m\u001b[1;33m)\u001b[0m\u001b[1;33m\u001b[0m\u001b[1;33m\u001b[0m\u001b[0m\n",
      "\u001b[1;32m<ipython-input-2-feed741edec0>\u001b[0m in \u001b[0;36mgood_neighbor_sol\u001b[1;34m(sol, num)\u001b[0m\n\u001b[0;32m     11\u001b[0m             \u001b[0md\u001b[0m \u001b[1;33m=\u001b[0m \u001b[1;32mTrue\u001b[0m\u001b[1;33m\u001b[0m\u001b[1;33m\u001b[0m\u001b[0m\n\u001b[0;32m     12\u001b[0m             \u001b[1;32mwhile\u001b[0m\u001b[1;33m(\u001b[0m\u001b[0md\u001b[0m\u001b[1;33m)\u001b[0m\u001b[1;33m:\u001b[0m\u001b[1;33m\u001b[0m\u001b[1;33m\u001b[0m\u001b[0m\n\u001b[1;32m---> 13\u001b[1;33m                 \u001b[0mtm\u001b[0m \u001b[1;33m=\u001b[0m \u001b[0mMake_insol\u001b[0m\u001b[1;33m(\u001b[0m\u001b[1;36m1\u001b[0m\u001b[1;33m)\u001b[0m\u001b[1;33m[\u001b[0m\u001b[1;36m0\u001b[0m\u001b[1;33m]\u001b[0m\u001b[1;33m\u001b[0m\u001b[1;33m\u001b[0m\u001b[0m\n\u001b[0m\u001b[0;32m     14\u001b[0m                 \u001b[1;32mif\u001b[0m \u001b[0mtm\u001b[0m\u001b[1;33m[\u001b[0m\u001b[1;36m1\u001b[0m\u001b[1;33m]\u001b[0m \u001b[1;32mnot\u001b[0m \u001b[1;32min\u001b[0m \u001b[0mtag\u001b[0m\u001b[1;33m:\u001b[0m\u001b[1;33m\u001b[0m\u001b[1;33m\u001b[0m\u001b[0m\n\u001b[0;32m     15\u001b[0m                     \u001b[0msol\u001b[0m\u001b[1;33m[\u001b[0m\u001b[0mj\u001b[0m\u001b[1;33m]\u001b[0m \u001b[1;33m=\u001b[0m \u001b[0mtm\u001b[0m\u001b[1;33m\u001b[0m\u001b[1;33m\u001b[0m\u001b[0m\n",
      "\u001b[1;31mTypeError\u001b[0m: 'NoneType' object is not subscriptable"
     ]
    }
   ],
   "source": [
    "start = time.time()\n",
    "\n",
    "\n",
    "graph_dot = []\n",
    "tag_num_tabu = []\n",
    "\n",
    "glo_sol = []\n",
    "glo_scr = []\n",
    "desire = base_score\n",
    "for i in tqdm_notebook(range(1,6)):\n",
    "    \n",
    "    \n",
    "    tag_num_tabu = []\n",
    "    sol_l = []\n",
    "    sol_s = []\n",
    "    real_sol = []\n",
    "    real_scr = []\n",
    "    flg=True\n",
    "    cnt = 0\n",
    "    cnt2 = 0\n",
    "    cnt3 = 0\n",
    "    while(flg):\n",
    "        cnt+=1\n",
    "        print('i는',i)\n",
    "        if cnt == 1:\n",
    "            insol = Make_insol(i)\n",
    "            nbr = Make_neighbor_sol(insol,40*(i*i))\n",
    "            for q in nbr:\n",
    "                t = Make_detail_neighbor(q,i)\n",
    "                nbr+=t\n",
    "                \n",
    "            b = Make_detail_neighbor(insol,i)\n",
    "            nbr+=b\n",
    "            \n",
    "        else:\n",
    "            if len(sol_s):\n",
    "                insol = sol_l[sol_s.index(max(sol_s))]\n",
    "                nbr = Make_neighbor_sol(insol,40*(i*i))\n",
    "                for q in nbr:\n",
    "                    t = Make_detail_neighbor(q,i)\n",
    "                    nbr+=t\n",
    "                b = Make_detail_neighbor(insol,i)\n",
    "                nbr+=b\n",
    "#                 b = good_neighbor_sol(insol,10*i)\n",
    "#                 nbr+= b\n",
    "            else : \n",
    "                insol = Make_insol(i)\n",
    "                nbr = Make_neighbor_sol(insol,40*(i*i))\n",
    "                for q in nbr:\n",
    "                    t = Make_detail_neighbor(q,i)\n",
    "                    nbr+=t\n",
    "                b = Make_detail_neighbor(insol,i)\n",
    "                nbr+=b\n",
    "#                 b = good_neighbor_sol(insol,10*i)\n",
    "#                 nbr+= b\n",
    "        sol_l = []\n",
    "        sol_s = []\n",
    "        #######여기서 nbr 열망함수 적용 \n",
    "        nbr = check_nbr(nbr,data,desire)\n",
    "        for j in tqdm_notebook(nbr):\n",
    "            \n",
    "            b_nbr = Make_valneighbor(j,5*(i))\n",
    "            b_nbr = check_nbr(b_nbr,data,desire)\n",
    "            sol = find_local_sol(b_nbr)\n",
    "            #######여기 벨류해???\n",
    "            if sol : \n",
    "                \n",
    "                a,b = Select_data(sol,data)\n",
    "                graph_dot.append(a)\n",
    "                sol_l.append(sol)\n",
    "                sol_s.append(a)\n",
    "                \n",
    "        if len(sol_s):\n",
    "            s = max(sol_s)\n",
    "            if cnt >= 2 :\n",
    "                if max(glo_scr) >= s:\n",
    "                    cnt2 += 1\n",
    "                    if cnt2 == 3:\n",
    "                        flg =False\n",
    "                else:\n",
    "                    cnt2 = 0\n",
    "                print(cnt2)\n",
    "            glo_sol.append(sol_l[sol_s.index(s)])\n",
    "            glo_scr.append(s)\n",
    "            desire = (sum(glo_scr)+base_score) / (len(glo_scr)+1)\n",
    "        else:\n",
    "            cnt3+=1\n",
    "            if cnt3 == 5:\n",
    "                flg = False\n",
    "            continue\n",
    "            \n",
    "        print(max(glo_scr))\n",
    "        print(glo_sol[glo_scr.index(max(glo_scr))])\n",
    "print(\"time :\", time.time() - start)"
   ]
  },
  {
   "cell_type": "code",
   "execution_count": null,
   "metadata": {},
   "outputs": [],
   "source": [
    "q_plot = []\n",
    "x_plot = []\n",
    "max_plt = []\n",
    "mean_plt=[]\n",
    "for i in range(len(graph_dot)):\n",
    "    q_plot.append(graph_dot[i])\n",
    "    x_plot.append(i)\n",
    "    max_plt.append(max(q_plot))\n",
    "    mean_plt.append(0.05793219386042783)\n",
    "plt.figure()\n",
    "plt.plot(x_plot, q_plot,label = 'sol')\n",
    "plt.plot(x_plot, max_plt, label = 'Max_sol')\n",
    "plt.plot(x_plot, mean_plt,label = 'All_mean',linestyle = '--')\n",
    "\n",
    "plt.xlabel('neighbor_solution')\n",
    "plt.ylabel('Score')\n",
    "plt.title('final_model')\n",
    "plt.legend()\n",
    "plt.show()"
   ]
  },
  {
   "cell_type": "code",
   "execution_count": null,
   "metadata": {},
   "outputs": [],
   "source": [
    "for i in range(len(glo_sol)):\n",
    "    \n",
    "    str_a = ''\n",
    "    str_tm = ''\n",
    "    a,b = Select_data(glo_sol[i],data)\n",
    "    for j in range(len(glo_sol[i])):\n",
    "        q = glo_sol[i][j]\n",
    "        \n",
    "        t = ''\n",
    "        if q[0]==1:\n",
    "            t = '*'\n",
    "        else:\n",
    "            t = '-'\n",
    "        str_tm+= t\n",
    "        str_tm+=' ['\n",
    "        str_tm+='D'\n",
    "        str_tm+= str(q[1])\n",
    "        str_tm+= ' , '\n",
    "        str_tm+= str(q[2])\n",
    "        str_tm+='] '\n",
    "    str_a += str_tm\n",
    "    print('     스코어 : ',round(a,6),      '     NTU:', b,'해 : '  ,str_a, )"
   ]
  },
  {
   "cell_type": "code",
   "execution_count": null,
   "metadata": {},
   "outputs": [],
   "source": []
  },
  {
   "cell_type": "code",
   "execution_count": null,
   "metadata": {},
   "outputs": [],
   "source": []
  },
  {
   "cell_type": "code",
   "execution_count": null,
   "metadata": {},
   "outputs": [],
   "source": []
  }
 ],
 "metadata": {
  "kernelspec": {
   "display_name": "Python 3",
   "language": "python",
   "name": "python3"
  },
  "language_info": {
   "codemirror_mode": {
    "name": "ipython",
    "version": 3
   },
   "file_extension": ".py",
   "mimetype": "text/x-python",
   "name": "python",
   "nbconvert_exporter": "python",
   "pygments_lexer": "ipython3",
   "version": "3.6.8"
  }
 },
 "nbformat": 4,
 "nbformat_minor": 2
}
