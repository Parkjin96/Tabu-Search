{
 "cells": [
  {
   "cell_type": "code",
   "execution_count": 1,
   "metadata": {},
   "outputs": [],
   "source": [
    "from tqdm import tqdm_notebook\n",
    "import random\n",
    "import pandas as pd\n",
    "import numpy as np\n",
    "import time\n",
    "import matplotlib.pyplot as plt\n",
    "import warnings\n",
    "\n",
    "warnings.filterwarnings(action='ignore') \n",
    "\n",
    "\n",
    "\n",
    "data = pd.read_csv('x.csv')\n",
    "y = pd.read_csv('y.csv')\n",
    "max_num = 1100\n",
    "min_num = 900\n",
    "data['T'] = y\n",
    "tabu_list = []\n",
    "\n",
    "tag_tabu = []\n",
    "base_score = data['T'].mean()\n"
   ]
  },
  {
   "cell_type": "code",
   "execution_count": 2,
   "metadata": {},
   "outputs": [],
   "source": [
    "def good_neighbor_sol(sol,num):\n",
    "    tot_sol = []\n",
    "    t = sol.copy()\n",
    "    a = len(sol)\n",
    "    tag = []\n",
    "    for i in sol:\n",
    "        tag.append(i[1])\n",
    "    for i in range(num):    \n",
    "        for j in range(a):\n",
    "            \n",
    "            d = True\n",
    "            while(d):\n",
    "                tm = Make_insol(1)[0]\n",
    "                if tm[1] not in tag:\n",
    "                    sol[j] = tm\n",
    "#                     print('sol:',sol)\n",
    "                    tot_sol.append(sol)\n",
    "                    sol = t.copy()\n",
    "#                     print('sol2:',sol)\n",
    "                    d = False\n",
    "    return tot_sol"
   ]
  },
  {
   "cell_type": "code",
   "execution_count": 3,
   "metadata": {},
   "outputs": [],
   "source": [
    "def check_nbr(nbr, data,desire) : \n",
    "    new_nbr = []\n",
    "    for i in nbr : \n",
    "        a, b = Select_data(i,data)\n",
    "        if a > desire : \n",
    "            new_nbr.append(i)\n",
    "    return new_nbr"
   ]
  },
  {
   "cell_type": "code",
   "execution_count": 4,
   "metadata": {},
   "outputs": [],
   "source": [
    "def find_local_sol(nbr):\n",
    "    tmsc = []\n",
    "    tmso = []\n",
    "    for i in nbr:\n",
    "        a,b = Select_data(i,data)\n",
    "        if min_num<=b<=max_num:\n",
    "            tmsc.append(a)\n",
    "            tmso.append(i)\n",
    "    if len(tmsc):\n",
    "        score = max(tmsc)\n",
    "        sol = tmso[tmsc.index(score)]\n",
    "        return sol\n",
    "    else:return 0"
   ]
  },
  {
   "cell_type": "code",
   "execution_count": 5,
   "metadata": {},
   "outputs": [],
   "source": [
    "def Make_valneighbor(sol,num):\n",
    "    tot_num_list = []\n",
    "    nbr_sol = []\n",
    "    tem = []\n",
    "    for i in range(len(sol)):\n",
    "        tem.append(sol[i][2])\n",
    "    tot_num_list.append(tem)\n",
    "    nbr = []\n",
    "    num1 = num\n",
    "    while(num) :\n",
    "        num-=1\n",
    "        flg = True\n",
    "        cnt = 0\n",
    "        while(flg):\n",
    "            cnt+=1\n",
    "            tem_ne = []\n",
    "            for i in range(len(sol)):\n",
    "                tem_ne.append(np.random.randint(1,11))\n",
    "            if (tem_ne not in tot_num_list) or cnt ==5:\n",
    "                flg = False\n",
    "                nbr.append(tem_ne)\n",
    "                tot_num_list.append(tem_ne)\n",
    "    for i in range(num1):\n",
    "        nbr_sol.append([])\n",
    "     \n",
    "        for j in range(len(sol)):\n",
    "          \n",
    "            nbr_sol[i].append([sol[j][0],sol[j][1],nbr[i][j]])\n",
    "#     print(nbr_sol)\n",
    "    return(nbr_sol)"
   ]
  },
  {
   "cell_type": "code",
   "execution_count": 6,
   "metadata": {},
   "outputs": [],
   "source": [
    "def Make_neighbor_sol(sol,num):\n",
    "    tot_sol = []\n",
    "#     tot_sol.append(sol)\n",
    "    a = len(sol)\n",
    "    for i in range(num):\n",
    "        t = Make_insol(a)\n",
    "        if t[:3] not in tag_num_tabu:\n",
    "            tot_sol.append(Make_insol(a))\n",
    "        \n",
    "    return tot_sol"
   ]
  },
  {
   "cell_type": "code",
   "execution_count": 7,
   "metadata": {},
   "outputs": [],
   "source": [
    "def Make_neighbor_sol2(sol,num):\n",
    "    tot_sol = []\n",
    "#     tot_sol.append(sol)\n",
    "    a = len(sol)\n",
    "    for i in range(num):\n",
    "        t = Make_insol(a)\n",
    "        if t[:2] not in tag_num_tabu:\n",
    "            tot_sol.append(Make_insol(a))\n",
    "        \n",
    "    return tot_sol"
   ]
  },
  {
   "cell_type": "code",
   "execution_count": 8,
   "metadata": {},
   "outputs": [],
   "source": [
    "def Select_data(sol,data):\n",
    "    local_data = data.copy()\n",
    "    for i in range(len(sol)):\n",
    "        if sol[i][0] :\n",
    "            new_data = local_data[data.iloc[:,sol[i][1]] >= sol[i][2]]\n",
    "        else:\n",
    "            new_data = local_data[data.iloc[:,sol[i][1]] < sol[i][2]]\n",
    "        local_data = new_data\n",
    "    score = new_data['T'].mean()\n",
    "    len_data = len(new_data)\n",
    "    return score, len_data"
   ]
  },
  {
   "cell_type": "code",
   "execution_count": 13,
   "metadata": {},
   "outputs": [],
   "source": [
    "def Make_detail_neighbor(sol,n):\n",
    "    tot = []\n",
    "    b = good_neighbor_sol(sol,10*n)\n",
    "    for i in b:\n",
    "        tot += Make_valneighbor(i,10*n)\n",
    "    return tot"
   ]
  },
  {
   "cell_type": "code",
   "execution_count": 10,
   "metadata": {},
   "outputs": [],
   "source": [
    "def Make_insol(sol_num):\n",
    "    sol = []\n",
    "    for i in range(sol_num):\n",
    "        if i ==0:\n",
    "            d = [1,np.random.randint(50),np.random.randint(1,11)]\n",
    "            sol.append(d)\n",
    "            tag_num_tabu.append(d[:2])\n",
    "        else:\n",
    "            d = [np.random.randint(2),np.random.randint(50),np.random.randint(1,11)]\n",
    "            sol.append(d)\n",
    "            tag_num_tabu.append(d[:2])\n",
    "    return sol"
   ]
  },
  {
   "cell_type": "code",
   "execution_count": 16,
   "metadata": {},
   "outputs": [
    {
     "data": {
      "application/vnd.jupyter.widget-view+json": {
       "model_id": "55fd35768784428ba655df3896bb6037",
       "version_major": 2,
       "version_minor": 0
      },
      "text/plain": [
       "HBox(children=(IntProgress(value=0, max=5), HTML(value='')))"
      ]
     },
     "metadata": {},
     "output_type": "display_data"
    },
    {
     "name": "stdout",
     "output_type": "stream",
     "text": [
      "i는 1\n"
     ]
    },
    {
     "data": {
      "application/vnd.jupyter.widget-view+json": {
       "model_id": "6c8b0fd312d54c6e904747abbe41b36c",
       "version_major": 2,
       "version_minor": 0
      },
      "text/plain": [
       "HBox(children=(IntProgress(value=0, max=30), HTML(value='')))"
      ]
     },
     "metadata": {},
     "output_type": "display_data"
    },
    {
     "name": "stdout",
     "output_type": "stream",
     "text": [
      "0.05899887286568163\n",
      "[[1, 28, 10]]\n",
      "i는 1\n"
     ]
    },
    {
     "data": {
      "application/vnd.jupyter.widget-view+json": {
       "model_id": "7c714f515d42415083b260f19742b60d",
       "version_major": 2,
       "version_minor": 0
      },
      "text/plain": [
       "HBox(children=(IntProgress(value=0, max=23), HTML(value='')))"
      ]
     },
     "metadata": {},
     "output_type": "display_data"
    },
    {
     "name": "stdout",
     "output_type": "stream",
     "text": [
      "i는 1\n"
     ]
    },
    {
     "data": {
      "application/vnd.jupyter.widget-view+json": {
       "model_id": "d9e96f050b1e47519169179c617c920a",
       "version_major": 2,
       "version_minor": 0
      },
      "text/plain": [
       "HBox(children=(IntProgress(value=0, max=15), HTML(value='')))"
      ]
     },
     "metadata": {},
     "output_type": "display_data"
    },
    {
     "name": "stdout",
     "output_type": "stream",
     "text": [
      "1\n",
      "0.05899887286568163\n",
      "[[1, 25, 5]]\n",
      "i는 1\n"
     ]
    },
    {
     "data": {
      "application/vnd.jupyter.widget-view+json": {
       "model_id": "660162ef50ef4f7caa6a9af2381a707f",
       "version_major": 2,
       "version_minor": 0
      },
      "text/plain": [
       "HBox(children=(IntProgress(value=0, max=20), HTML(value='')))"
      ]
     },
     "metadata": {},
     "output_type": "display_data"
    },
    {
     "name": "stdout",
     "output_type": "stream",
     "text": [
      "0\n",
      "0.05915071862273937\n",
      "[[1, 26, 10]]\n",
      "i는 1\n"
     ]
    },
    {
     "data": {
      "application/vnd.jupyter.widget-view+json": {
       "model_id": "b270b80561034754b58f1be3c7f15e61",
       "version_major": 2,
       "version_minor": 0
      },
      "text/plain": [
       "HBox(children=(IntProgress(value=0, max=20), HTML(value='')))"
      ]
     },
     "metadata": {},
     "output_type": "display_data"
    },
    {
     "name": "stdout",
     "output_type": "stream",
     "text": [
      "i는 1\n"
     ]
    },
    {
     "data": {
      "application/vnd.jupyter.widget-view+json": {
       "model_id": "bab8518e6b834a9094a5ace252f0dda3",
       "version_major": 2,
       "version_minor": 0
      },
      "text/plain": [
       "HBox(children=(IntProgress(value=0, max=26), HTML(value='')))"
      ]
     },
     "metadata": {},
     "output_type": "display_data"
    },
    {
     "name": "stdout",
     "output_type": "stream",
     "text": [
      "1\n",
      "0.05915071862273937\n",
      "[[1, 5, 5]]\n",
      "i는 1\n"
     ]
    },
    {
     "data": {
      "application/vnd.jupyter.widget-view+json": {
       "model_id": "c90ee9bbba964cafbb10afc22002d807",
       "version_major": 2,
       "version_minor": 0
      },
      "text/plain": [
       "HBox(children=(IntProgress(value=0, max=3), HTML(value='')))"
      ]
     },
     "metadata": {},
     "output_type": "display_data"
    },
    {
     "name": "stdout",
     "output_type": "stream",
     "text": [
      "i는 1\n"
     ]
    },
    {
     "data": {
      "application/vnd.jupyter.widget-view+json": {
       "model_id": "99b873f95e9f4976a9f46e384c98b43c",
       "version_major": 2,
       "version_minor": 0
      },
      "text/plain": [
       "HBox(children=(IntProgress(value=0, max=24), HTML(value='')))"
      ]
     },
     "metadata": {},
     "output_type": "display_data"
    },
    {
     "name": "stdout",
     "output_type": "stream",
     "text": [
      "i는 1\n"
     ]
    },
    {
     "data": {
      "application/vnd.jupyter.widget-view+json": {
       "model_id": "f4508ec0bbcb404e84fc0bd629adeee1",
       "version_major": 2,
       "version_minor": 0
      },
      "text/plain": [
       "HBox(children=(IntProgress(value=0, max=12), HTML(value='')))"
      ]
     },
     "metadata": {},
     "output_type": "display_data"
    },
    {
     "name": "stdout",
     "output_type": "stream",
     "text": [
      "i는 2\n"
     ]
    },
    {
     "data": {
      "application/vnd.jupyter.widget-view+json": {
       "model_id": "e5f54ebf21d745eb85a16d3c7f25b69c",
       "version_major": 2,
       "version_minor": 0
      },
      "text/plain": [
       "HBox(children=(IntProgress(value=0, max=108), HTML(value='')))"
      ]
     },
     "metadata": {},
     "output_type": "display_data"
    },
    {
     "name": "stdout",
     "output_type": "stream",
     "text": [
      "0.06152419509029093\n",
      "[[1, 27, 9], [1, 43, 4]]\n",
      "i는 2\n"
     ]
    },
    {
     "data": {
      "application/vnd.jupyter.widget-view+json": {
       "model_id": "5af502ea0096476ea8406f1a4ed4e6ba",
       "version_major": 2,
       "version_minor": 0
      },
      "text/plain": [
       "HBox(children=(IntProgress(value=0, max=206), HTML(value='')))"
      ]
     },
     "metadata": {},
     "output_type": "display_data"
    },
    {
     "name": "stdout",
     "output_type": "stream",
     "text": [
      "0\n",
      "0.06378805914075986\n",
      "[[1, 10, 5], [1, 43, 4]]\n",
      "i는 2\n"
     ]
    },
    {
     "data": {
      "application/vnd.jupyter.widget-view+json": {
       "model_id": "7644a938ae1749ba9b1058c3c03b348e",
       "version_major": 2,
       "version_minor": 0
      },
      "text/plain": [
       "HBox(children=(IntProgress(value=0, max=163), HTML(value='')))"
      ]
     },
     "metadata": {},
     "output_type": "display_data"
    },
    {
     "name": "stdout",
     "output_type": "stream",
     "text": [
      "1\n",
      "0.06378805914075986\n",
      "[[1, 33, 8], [1, 43, 4]]\n",
      "i는 2\n"
     ]
    },
    {
     "data": {
      "application/vnd.jupyter.widget-view+json": {
       "model_id": "89df2594262f4ab0a6e97427ab40e8ed",
       "version_major": 2,
       "version_minor": 0
      },
      "text/plain": [
       "HBox(children=(IntProgress(value=0, max=176), HTML(value='')))"
      ]
     },
     "metadata": {},
     "output_type": "display_data"
    },
    {
     "name": "stdout",
     "output_type": "stream",
     "text": [
      "2\n",
      "0.06378805914075986\n",
      "[[1, 33, 8], [1, 43, 4]]\n",
      "i는 2\n"
     ]
    },
    {
     "data": {
      "application/vnd.jupyter.widget-view+json": {
       "model_id": "35f8b3a611874a97ae9d1dcdc6fbb206",
       "version_major": 2,
       "version_minor": 0
      },
      "text/plain": [
       "HBox(children=(IntProgress(value=0, max=115), HTML(value='')))"
      ]
     },
     "metadata": {},
     "output_type": "display_data"
    },
    {
     "name": "stdout",
     "output_type": "stream",
     "text": [
      "0\n",
      "0.06379742876133682\n",
      "[[1, 15, 7], [1, 34, 9]]\n",
      "i는 2\n"
     ]
    },
    {
     "data": {
      "application/vnd.jupyter.widget-view+json": {
       "model_id": "f2f6a5c7052d4acbb4cb2c1eefd4e6bf",
       "version_major": 2,
       "version_minor": 0
      },
      "text/plain": [
       "HBox(children=(IntProgress(value=0, max=109), HTML(value='')))"
      ]
     },
     "metadata": {},
     "output_type": "display_data"
    },
    {
     "name": "stdout",
     "output_type": "stream",
     "text": [
      "0\n",
      "0.06405922232643829\n",
      "[[1, 26, 8], [1, 34, 7]]\n",
      "i는 2\n"
     ]
    },
    {
     "data": {
      "application/vnd.jupyter.widget-view+json": {
       "model_id": "32ef0ab2d49544e1ad551df20129f7ae",
       "version_major": 2,
       "version_minor": 0
      },
      "text/plain": [
       "HBox(children=(IntProgress(value=0, max=116), HTML(value='')))"
      ]
     },
     "metadata": {},
     "output_type": "display_data"
    },
    {
     "name": "stdout",
     "output_type": "stream",
     "text": [
      "1\n",
      "0.06405922232643829\n",
      "[[1, 33, 8], [1, 34, 7]]\n",
      "i는 2\n"
     ]
    },
    {
     "data": {
      "application/vnd.jupyter.widget-view+json": {
       "model_id": "eb9119c13bf043878d2f1020de838703",
       "version_major": 2,
       "version_minor": 0
      },
      "text/plain": [
       "HBox(children=(IntProgress(value=0, max=95), HTML(value='')))"
      ]
     },
     "metadata": {},
     "output_type": "display_data"
    },
    {
     "name": "stdout",
     "output_type": "stream",
     "text": [
      "2\n",
      "0.06405922232643829\n",
      "[[1, 33, 8], [1, 34, 7]]\n",
      "i는 2\n"
     ]
    },
    {
     "data": {
      "application/vnd.jupyter.widget-view+json": {
       "model_id": "2d45e7bf38d14ef79aaa439d984e71a4",
       "version_major": 2,
       "version_minor": 0
      },
      "text/plain": [
       "HBox(children=(IntProgress(value=0, max=129), HTML(value='')))"
      ]
     },
     "metadata": {},
     "output_type": "display_data"
    },
    {
     "name": "stdout",
     "output_type": "stream",
     "text": [
      "3\n",
      "0.06405922232643829\n",
      "[[1, 33, 8], [1, 34, 7]]\n",
      "i는 3\n"
     ]
    },
    {
     "data": {
      "application/vnd.jupyter.widget-view+json": {
       "model_id": "d3b3e1e545194030a6eb4f923f4efa75",
       "version_major": 2,
       "version_minor": 0
      },
      "text/plain": [
       "HBox(children=(IntProgress(value=0, max=498), HTML(value='')))"
      ]
     },
     "metadata": {},
     "output_type": "display_data"
    },
    {
     "name": "stdout",
     "output_type": "stream",
     "text": [
      "0.06473571253469469\n",
      "[[1, 46, 4], [1, 26, 6], [0, 30, 8]]\n",
      "i는 3\n"
     ]
    },
    {
     "data": {
      "application/vnd.jupyter.widget-view+json": {
       "model_id": "2e0272adad2b48d6a500051f2c7781eb",
       "version_major": 2,
       "version_minor": 0
      },
      "text/plain": [
       "HBox(children=(IntProgress(value=0, max=602), HTML(value='')))"
      ]
     },
     "metadata": {},
     "output_type": "display_data"
    },
    {
     "name": "stdout",
     "output_type": "stream",
     "text": [
      "0\n",
      "0.06607321701040016\n",
      "[[1, 46, 2], [1, 26, 8], [1, 49, 2]]\n",
      "i는 3\n"
     ]
    },
    {
     "data": {
      "application/vnd.jupyter.widget-view+json": {
       "model_id": "cbf1bab68da1484fb90ae6bc43051d68",
       "version_major": 2,
       "version_minor": 0
      },
      "text/plain": [
       "HBox(children=(IntProgress(value=0, max=637), HTML(value='')))"
      ]
     },
     "metadata": {},
     "output_type": "display_data"
    },
    {
     "name": "stdout",
     "output_type": "stream",
     "text": [
      "0\n",
      "0.0665570578535533\n",
      "[[1, 46, 2], [1, 26, 8], [1, 34, 2]]\n",
      "i는 3\n"
     ]
    },
    {
     "data": {
      "application/vnd.jupyter.widget-view+json": {
       "model_id": "c794504897624040b5286eddc7b4ea27",
       "version_major": 2,
       "version_minor": 0
      },
      "text/plain": [
       "HBox(children=(IntProgress(value=0, max=634), HTML(value='')))"
      ]
     },
     "metadata": {},
     "output_type": "display_data"
    },
    {
     "name": "stdout",
     "output_type": "stream",
     "text": [
      "1\n",
      "0.0665570578535533\n",
      "[[1, 19, 2], [1, 26, 8], [1, 34, 2]]\n",
      "i는 3\n"
     ]
    },
    {
     "data": {
      "application/vnd.jupyter.widget-view+json": {
       "model_id": "0450be3e0cd742b19c5005efa6a93ae9",
       "version_major": 2,
       "version_minor": 0
      },
      "text/plain": [
       "HBox(children=(IntProgress(value=0, max=498), HTML(value='')))"
      ]
     },
     "metadata": {},
     "output_type": "display_data"
    },
    {
     "name": "stdout",
     "output_type": "stream",
     "text": [
      "0\n",
      "0.06663899225917075\n",
      "[[1, 46, 3], [1, 26, 6], [1, 12, 2]]\n",
      "i는 3\n"
     ]
    },
    {
     "data": {
      "application/vnd.jupyter.widget-view+json": {
       "model_id": "760a3366ff554f66953637e104fa0722",
       "version_major": 2,
       "version_minor": 0
      },
      "text/plain": [
       "HBox(children=(IntProgress(value=0, max=589), HTML(value='')))"
      ]
     },
     "metadata": {},
     "output_type": "display_data"
    },
    {
     "name": "stdout",
     "output_type": "stream",
     "text": [
      "1\n",
      "0.06663899225917075\n",
      "[[1, 25, 8], [1, 26, 6], [1, 12, 2]]\n",
      "i는 3\n"
     ]
    },
    {
     "data": {
      "application/vnd.jupyter.widget-view+json": {
       "model_id": "437411a0d3794c4f8dbab4d5cf0b0090",
       "version_major": 2,
       "version_minor": 0
      },
      "text/plain": [
       "HBox(children=(IntProgress(value=0, max=268), HTML(value='')))"
      ]
     },
     "metadata": {},
     "output_type": "display_data"
    },
    {
     "name": "stdout",
     "output_type": "stream",
     "text": [
      "0\n",
      "0.06798403493627823\n",
      "[[1, 33, 4], [1, 39, 5], [1, 17, 8]]\n",
      "i는 3\n"
     ]
    },
    {
     "data": {
      "application/vnd.jupyter.widget-view+json": {
       "model_id": "51d24dc8f13145be9752800ea7e49206",
       "version_major": 2,
       "version_minor": 0
      },
      "text/plain": [
       "HBox(children=(IntProgress(value=0, max=455), HTML(value='')))"
      ]
     },
     "metadata": {},
     "output_type": "display_data"
    },
    {
     "name": "stdout",
     "output_type": "stream",
     "text": [
      "1\n",
      "0.06798403493627823\n",
      "[[1, 12, 9], [1, 39, 5], [1, 17, 8]]\n",
      "i는 3\n"
     ]
    },
    {
     "data": {
      "application/vnd.jupyter.widget-view+json": {
       "model_id": "5332d4bd7cbe4cd2a2a2edf83a3a60c7",
       "version_major": 2,
       "version_minor": 0
      },
      "text/plain": [
       "HBox(children=(IntProgress(value=0, max=402), HTML(value='')))"
      ]
     },
     "metadata": {},
     "output_type": "display_data"
    },
    {
     "name": "stdout",
     "output_type": "stream",
     "text": [
      "2\n",
      "0.06798403493627823\n",
      "[[1, 12, 9], [1, 39, 5], [1, 17, 8]]\n",
      "i는 3\n"
     ]
    },
    {
     "data": {
      "application/vnd.jupyter.widget-view+json": {
       "model_id": "2ccb0f4e46724925ad208d0a72136cfa",
       "version_major": 2,
       "version_minor": 0
      },
      "text/plain": [
       "HBox(children=(IntProgress(value=0, max=397), HTML(value='')))"
      ]
     },
     "metadata": {},
     "output_type": "display_data"
    },
    {
     "name": "stdout",
     "output_type": "stream",
     "text": [
      "3\n",
      "0.06798403493627823\n",
      "[[1, 12, 9], [1, 39, 5], [1, 17, 8]]\n",
      "i는 4\n"
     ]
    },
    {
     "data": {
      "application/vnd.jupyter.widget-view+json": {
       "model_id": "1fd404a912f842b086c15dc9e56407cd",
       "version_major": 2,
       "version_minor": 0
      },
      "text/plain": [
       "HBox(children=(IntProgress(value=0, max=557), HTML(value='')))"
      ]
     },
     "metadata": {},
     "output_type": "display_data"
    },
    {
     "name": "stdout",
     "output_type": "stream",
     "text": [
      "0.06798403493627823\n",
      "[[1, 12, 9], [1, 39, 5], [1, 17, 8]]\n",
      "i는 4\n"
     ]
    },
    {
     "data": {
      "application/vnd.jupyter.widget-view+json": {
       "model_id": "824db44750ef4689a5565b1b55d5dad0",
       "version_major": 2,
       "version_minor": 0
      },
      "text/plain": [
       "HBox(children=(IntProgress(value=0, max=1363), HTML(value='')))"
      ]
     },
     "metadata": {},
     "output_type": "display_data"
    },
    {
     "name": "stdout",
     "output_type": "stream",
     "text": [
      "1\n",
      "0.06798403493627823\n",
      "[[1, 12, 9], [1, 39, 5], [1, 17, 8]]\n",
      "i는 4\n"
     ]
    },
    {
     "data": {
      "application/vnd.jupyter.widget-view+json": {
       "model_id": "491a9a62c20549418b0acc8e384e814b",
       "version_major": 2,
       "version_minor": 0
      },
      "text/plain": [
       "HBox(children=(IntProgress(value=0, max=1398), HTML(value='')))"
      ]
     },
     "metadata": {},
     "output_type": "display_data"
    },
    {
     "name": "stdout",
     "output_type": "stream",
     "text": [
      "2\n",
      "0.06798403493627823\n",
      "[[1, 12, 9], [1, 39, 5], [1, 17, 8]]\n",
      "i는 4\n"
     ]
    },
    {
     "data": {
      "application/vnd.jupyter.widget-view+json": {
       "model_id": "1c2e08eeeffa41d184673ebbd6784563",
       "version_major": 2,
       "version_minor": 0
      },
      "text/plain": [
       "HBox(children=(IntProgress(value=0, max=1240), HTML(value='')))"
      ]
     },
     "metadata": {},
     "output_type": "display_data"
    },
    {
     "name": "stdout",
     "output_type": "stream",
     "text": [
      "3\n",
      "0.06798403493627823\n",
      "[[1, 12, 9], [1, 39, 5], [1, 17, 8]]\n",
      "i는 5\n"
     ]
    },
    {
     "data": {
      "application/vnd.jupyter.widget-view+json": {
       "model_id": "687e2564fb504855bad8da7efcdc012b",
       "version_major": 2,
       "version_minor": 0
      },
      "text/plain": [
       "HBox(children=(IntProgress(value=0, max=2179), HTML(value='')))"
      ]
     },
     "metadata": {},
     "output_type": "display_data"
    },
    {
     "name": "stdout",
     "output_type": "stream",
     "text": [
      "0.06798403493627823\n",
      "[[1, 12, 9], [1, 39, 5], [1, 17, 8]]\n",
      "i는 5\n"
     ]
    },
    {
     "data": {
      "application/vnd.jupyter.widget-view+json": {
       "model_id": "40724cb58fd946eea47a869676baf726",
       "version_major": 2,
       "version_minor": 0
      },
      "text/plain": [
       "HBox(children=(IntProgress(value=0, max=2295), HTML(value='')))"
      ]
     },
     "metadata": {},
     "output_type": "display_data"
    },
    {
     "name": "stdout",
     "output_type": "stream",
     "text": [
      "1\n",
      "0.06798403493627823\n",
      "[[1, 12, 9], [1, 39, 5], [1, 17, 8]]\n",
      "i는 5\n"
     ]
    },
    {
     "data": {
      "application/vnd.jupyter.widget-view+json": {
       "model_id": "50424645d499444aa252fc070825500e",
       "version_major": 2,
       "version_minor": 0
      },
      "text/plain": [
       "HBox(children=(IntProgress(value=0, max=2133), HTML(value='')))"
      ]
     },
     "metadata": {},
     "output_type": "display_data"
    },
    {
     "ename": "KeyboardInterrupt",
     "evalue": "",
     "output_type": "error",
     "traceback": [
      "\u001b[1;31m---------------------------------------------------------------------------\u001b[0m",
      "\u001b[1;31mKeyboardInterrupt\u001b[0m                         Traceback (most recent call last)",
      "\u001b[1;32m<ipython-input-16-ffeb0b28fefe>\u001b[0m in \u001b[0;36m<module>\u001b[1;34m\u001b[0m\n\u001b[0;32m     51\u001b[0m \u001b[1;33m\u001b[0m\u001b[0m\n\u001b[0;32m     52\u001b[0m             \u001b[0mb_nbr\u001b[0m \u001b[1;33m=\u001b[0m \u001b[0mMake_valneighbor\u001b[0m\u001b[1;33m(\u001b[0m\u001b[0mj\u001b[0m\u001b[1;33m,\u001b[0m\u001b[1;36m5\u001b[0m\u001b[1;33m*\u001b[0m\u001b[1;33m(\u001b[0m\u001b[0mi\u001b[0m\u001b[1;33m)\u001b[0m\u001b[1;33m)\u001b[0m\u001b[1;33m\u001b[0m\u001b[1;33m\u001b[0m\u001b[0m\n\u001b[1;32m---> 53\u001b[1;33m             \u001b[0mb_nbr\u001b[0m \u001b[1;33m=\u001b[0m \u001b[0mcheck_nbr\u001b[0m\u001b[1;33m(\u001b[0m\u001b[0mb_nbr\u001b[0m\u001b[1;33m,\u001b[0m\u001b[0mdata\u001b[0m\u001b[1;33m,\u001b[0m\u001b[0mdesire\u001b[0m\u001b[1;33m)\u001b[0m\u001b[1;33m\u001b[0m\u001b[1;33m\u001b[0m\u001b[0m\n\u001b[0m\u001b[0;32m     54\u001b[0m             \u001b[0msol\u001b[0m \u001b[1;33m=\u001b[0m \u001b[0mfind_local_sol\u001b[0m\u001b[1;33m(\u001b[0m\u001b[0mb_nbr\u001b[0m\u001b[1;33m)\u001b[0m\u001b[1;33m\u001b[0m\u001b[1;33m\u001b[0m\u001b[0m\n\u001b[0;32m     55\u001b[0m             \u001b[1;31m#######여기 벨류해???\u001b[0m\u001b[1;33m\u001b[0m\u001b[1;33m\u001b[0m\u001b[1;33m\u001b[0m\u001b[0m\n",
      "\u001b[1;32m<ipython-input-3-7db3cfa5495b>\u001b[0m in \u001b[0;36mcheck_nbr\u001b[1;34m(nbr, data, desire)\u001b[0m\n\u001b[0;32m      2\u001b[0m     \u001b[0mnew_nbr\u001b[0m \u001b[1;33m=\u001b[0m \u001b[1;33m[\u001b[0m\u001b[1;33m]\u001b[0m\u001b[1;33m\u001b[0m\u001b[1;33m\u001b[0m\u001b[0m\n\u001b[0;32m      3\u001b[0m     \u001b[1;32mfor\u001b[0m \u001b[0mi\u001b[0m \u001b[1;32min\u001b[0m \u001b[0mnbr\u001b[0m \u001b[1;33m:\u001b[0m\u001b[1;33m\u001b[0m\u001b[1;33m\u001b[0m\u001b[0m\n\u001b[1;32m----> 4\u001b[1;33m         \u001b[0ma\u001b[0m\u001b[1;33m,\u001b[0m \u001b[0mb\u001b[0m \u001b[1;33m=\u001b[0m \u001b[0mSelect_data\u001b[0m\u001b[1;33m(\u001b[0m\u001b[0mi\u001b[0m\u001b[1;33m,\u001b[0m\u001b[0mdata\u001b[0m\u001b[1;33m)\u001b[0m\u001b[1;33m\u001b[0m\u001b[1;33m\u001b[0m\u001b[0m\n\u001b[0m\u001b[0;32m      5\u001b[0m         \u001b[1;32mif\u001b[0m \u001b[0ma\u001b[0m \u001b[1;33m>\u001b[0m \u001b[0mdesire\u001b[0m \u001b[1;33m:\u001b[0m\u001b[1;33m\u001b[0m\u001b[1;33m\u001b[0m\u001b[0m\n\u001b[0;32m      6\u001b[0m             \u001b[0mnew_nbr\u001b[0m\u001b[1;33m.\u001b[0m\u001b[0mappend\u001b[0m\u001b[1;33m(\u001b[0m\u001b[0mi\u001b[0m\u001b[1;33m)\u001b[0m\u001b[1;33m\u001b[0m\u001b[1;33m\u001b[0m\u001b[0m\n",
      "\u001b[1;32m<ipython-input-8-bf68424baf3b>\u001b[0m in \u001b[0;36mSelect_data\u001b[1;34m(sol, data)\u001b[0m\n\u001b[0;32m      1\u001b[0m \u001b[1;32mdef\u001b[0m \u001b[0mSelect_data\u001b[0m\u001b[1;33m(\u001b[0m\u001b[0msol\u001b[0m\u001b[1;33m,\u001b[0m\u001b[0mdata\u001b[0m\u001b[1;33m)\u001b[0m\u001b[1;33m:\u001b[0m\u001b[1;33m\u001b[0m\u001b[1;33m\u001b[0m\u001b[0m\n\u001b[1;32m----> 2\u001b[1;33m     \u001b[0mlocal_data\u001b[0m \u001b[1;33m=\u001b[0m \u001b[0mdata\u001b[0m\u001b[1;33m.\u001b[0m\u001b[0mcopy\u001b[0m\u001b[1;33m(\u001b[0m\u001b[1;33m)\u001b[0m\u001b[1;33m\u001b[0m\u001b[1;33m\u001b[0m\u001b[0m\n\u001b[0m\u001b[0;32m      3\u001b[0m     \u001b[1;32mfor\u001b[0m \u001b[0mi\u001b[0m \u001b[1;32min\u001b[0m \u001b[0mrange\u001b[0m\u001b[1;33m(\u001b[0m\u001b[0mlen\u001b[0m\u001b[1;33m(\u001b[0m\u001b[0msol\u001b[0m\u001b[1;33m)\u001b[0m\u001b[1;33m)\u001b[0m\u001b[1;33m:\u001b[0m\u001b[1;33m\u001b[0m\u001b[1;33m\u001b[0m\u001b[0m\n\u001b[0;32m      4\u001b[0m         \u001b[1;32mif\u001b[0m \u001b[0msol\u001b[0m\u001b[1;33m[\u001b[0m\u001b[0mi\u001b[0m\u001b[1;33m]\u001b[0m\u001b[1;33m[\u001b[0m\u001b[1;36m0\u001b[0m\u001b[1;33m]\u001b[0m \u001b[1;33m:\u001b[0m\u001b[1;33m\u001b[0m\u001b[1;33m\u001b[0m\u001b[0m\n\u001b[0;32m      5\u001b[0m             \u001b[0mnew_data\u001b[0m \u001b[1;33m=\u001b[0m \u001b[0mlocal_data\u001b[0m\u001b[1;33m[\u001b[0m\u001b[0mdata\u001b[0m\u001b[1;33m.\u001b[0m\u001b[0miloc\u001b[0m\u001b[1;33m[\u001b[0m\u001b[1;33m:\u001b[0m\u001b[1;33m,\u001b[0m\u001b[0msol\u001b[0m\u001b[1;33m[\u001b[0m\u001b[0mi\u001b[0m\u001b[1;33m]\u001b[0m\u001b[1;33m[\u001b[0m\u001b[1;36m1\u001b[0m\u001b[1;33m]\u001b[0m\u001b[1;33m]\u001b[0m \u001b[1;33m>=\u001b[0m \u001b[0msol\u001b[0m\u001b[1;33m[\u001b[0m\u001b[0mi\u001b[0m\u001b[1;33m]\u001b[0m\u001b[1;33m[\u001b[0m\u001b[1;36m2\u001b[0m\u001b[1;33m]\u001b[0m\u001b[1;33m]\u001b[0m\u001b[1;33m\u001b[0m\u001b[1;33m\u001b[0m\u001b[0m\n",
      "\u001b[1;32mc:\\anaconda3\\lib\\site-packages\\pandas\\core\\generic.py\u001b[0m in \u001b[0;36mcopy\u001b[1;34m(self, deep)\u001b[0m\n\u001b[0;32m   5802\u001b[0m         \u001b[0mdtype\u001b[0m\u001b[1;33m:\u001b[0m \u001b[0mobject\u001b[0m\u001b[1;33m\u001b[0m\u001b[1;33m\u001b[0m\u001b[0m\n\u001b[0;32m   5803\u001b[0m         \"\"\"\n\u001b[1;32m-> 5804\u001b[1;33m         \u001b[0mdata\u001b[0m \u001b[1;33m=\u001b[0m \u001b[0mself\u001b[0m\u001b[1;33m.\u001b[0m\u001b[0m_data\u001b[0m\u001b[1;33m.\u001b[0m\u001b[0mcopy\u001b[0m\u001b[1;33m(\u001b[0m\u001b[0mdeep\u001b[0m\u001b[1;33m=\u001b[0m\u001b[0mdeep\u001b[0m\u001b[1;33m)\u001b[0m\u001b[1;33m\u001b[0m\u001b[1;33m\u001b[0m\u001b[0m\n\u001b[0m\u001b[0;32m   5805\u001b[0m         \u001b[1;32mreturn\u001b[0m \u001b[0mself\u001b[0m\u001b[1;33m.\u001b[0m\u001b[0m_constructor\u001b[0m\u001b[1;33m(\u001b[0m\u001b[0mdata\u001b[0m\u001b[1;33m)\u001b[0m\u001b[1;33m.\u001b[0m\u001b[0m__finalize__\u001b[0m\u001b[1;33m(\u001b[0m\u001b[0mself\u001b[0m\u001b[1;33m)\u001b[0m\u001b[1;33m\u001b[0m\u001b[1;33m\u001b[0m\u001b[0m\n\u001b[0;32m   5806\u001b[0m \u001b[1;33m\u001b[0m\u001b[0m\n",
      "\u001b[1;32mc:\\anaconda3\\lib\\site-packages\\pandas\\core\\internals\\managers.py\u001b[0m in \u001b[0;36mcopy\u001b[1;34m(self, deep)\u001b[0m\n\u001b[0;32m    732\u001b[0m             \u001b[0mnew_axes\u001b[0m \u001b[1;33m=\u001b[0m \u001b[0mlist\u001b[0m\u001b[1;33m(\u001b[0m\u001b[0mself\u001b[0m\u001b[1;33m.\u001b[0m\u001b[0maxes\u001b[0m\u001b[1;33m)\u001b[0m\u001b[1;33m\u001b[0m\u001b[1;33m\u001b[0m\u001b[0m\n\u001b[0;32m    733\u001b[0m         return self.apply('copy', axes=new_axes, deep=deep,\n\u001b[1;32m--> 734\u001b[1;33m                           do_integrity_check=False)\n\u001b[0m\u001b[0;32m    735\u001b[0m \u001b[1;33m\u001b[0m\u001b[0m\n\u001b[0;32m    736\u001b[0m     \u001b[1;32mdef\u001b[0m \u001b[0mas_array\u001b[0m\u001b[1;33m(\u001b[0m\u001b[0mself\u001b[0m\u001b[1;33m,\u001b[0m \u001b[0mtranspose\u001b[0m\u001b[1;33m=\u001b[0m\u001b[1;32mFalse\u001b[0m\u001b[1;33m,\u001b[0m \u001b[0mitems\u001b[0m\u001b[1;33m=\u001b[0m\u001b[1;32mNone\u001b[0m\u001b[1;33m)\u001b[0m\u001b[1;33m:\u001b[0m\u001b[1;33m\u001b[0m\u001b[1;33m\u001b[0m\u001b[0m\n",
      "\u001b[1;32mc:\\anaconda3\\lib\\site-packages\\pandas\\core\\internals\\managers.py\u001b[0m in \u001b[0;36mapply\u001b[1;34m(self, f, axes, filter, do_integrity_check, consolidate, **kwargs)\u001b[0m\n\u001b[0;32m    393\u001b[0m                                             copy=align_copy)\n\u001b[0;32m    394\u001b[0m \u001b[1;33m\u001b[0m\u001b[0m\n\u001b[1;32m--> 395\u001b[1;33m             \u001b[0mapplied\u001b[0m \u001b[1;33m=\u001b[0m \u001b[0mgetattr\u001b[0m\u001b[1;33m(\u001b[0m\u001b[0mb\u001b[0m\u001b[1;33m,\u001b[0m \u001b[0mf\u001b[0m\u001b[1;33m)\u001b[0m\u001b[1;33m(\u001b[0m\u001b[1;33m**\u001b[0m\u001b[0mkwargs\u001b[0m\u001b[1;33m)\u001b[0m\u001b[1;33m\u001b[0m\u001b[1;33m\u001b[0m\u001b[0m\n\u001b[0m\u001b[0;32m    396\u001b[0m             \u001b[0mresult_blocks\u001b[0m \u001b[1;33m=\u001b[0m \u001b[0m_extend_blocks\u001b[0m\u001b[1;33m(\u001b[0m\u001b[0mapplied\u001b[0m\u001b[1;33m,\u001b[0m \u001b[0mresult_blocks\u001b[0m\u001b[1;33m)\u001b[0m\u001b[1;33m\u001b[0m\u001b[1;33m\u001b[0m\u001b[0m\n\u001b[0;32m    397\u001b[0m \u001b[1;33m\u001b[0m\u001b[0m\n",
      "\u001b[1;32mc:\\anaconda3\\lib\\site-packages\\pandas\\core\\internals\\blocks.py\u001b[0m in \u001b[0;36mcopy\u001b[1;34m(self, deep)\u001b[0m\n\u001b[0;32m    751\u001b[0m         \u001b[0mvalues\u001b[0m \u001b[1;33m=\u001b[0m \u001b[0mself\u001b[0m\u001b[1;33m.\u001b[0m\u001b[0mvalues\u001b[0m\u001b[1;33m\u001b[0m\u001b[1;33m\u001b[0m\u001b[0m\n\u001b[0;32m    752\u001b[0m         \u001b[1;32mif\u001b[0m \u001b[0mdeep\u001b[0m\u001b[1;33m:\u001b[0m\u001b[1;33m\u001b[0m\u001b[1;33m\u001b[0m\u001b[0m\n\u001b[1;32m--> 753\u001b[1;33m             \u001b[0mvalues\u001b[0m \u001b[1;33m=\u001b[0m \u001b[0mvalues\u001b[0m\u001b[1;33m.\u001b[0m\u001b[0mcopy\u001b[0m\u001b[1;33m(\u001b[0m\u001b[1;33m)\u001b[0m\u001b[1;33m\u001b[0m\u001b[1;33m\u001b[0m\u001b[0m\n\u001b[0m\u001b[0;32m    754\u001b[0m         \u001b[1;32mreturn\u001b[0m \u001b[0mself\u001b[0m\u001b[1;33m.\u001b[0m\u001b[0mmake_block_same_class\u001b[0m\u001b[1;33m(\u001b[0m\u001b[0mvalues\u001b[0m\u001b[1;33m)\u001b[0m\u001b[1;33m\u001b[0m\u001b[1;33m\u001b[0m\u001b[0m\n\u001b[0;32m    755\u001b[0m \u001b[1;33m\u001b[0m\u001b[0m\n",
      "\u001b[1;31mKeyboardInterrupt\u001b[0m: "
     ]
    }
   ],
   "source": [
    "start = time.time()\n",
    "\n",
    "\n",
    "graph_dot = []\n",
    "tag_num_tabu = []\n",
    "\n",
    "glo_sol = []\n",
    "glo_scr = []\n",
    "desire = base_score\n",
    "for i in tqdm_notebook(range(1,6)):\n",
    "    \n",
    "    \n",
    "    tag_num_tabu = []\n",
    "    sol_l = []\n",
    "    sol_s = []\n",
    "    real_sol = []\n",
    "    real_scr = []\n",
    "    flg=True\n",
    "    cnt = 0\n",
    "    cnt2 = 0\n",
    "    cnt3 = 0\n",
    "    while(flg):\n",
    "        cnt+=1\n",
    "        print('i는',i)\n",
    "        if cnt == 1:\n",
    "            insol = Make_insol(i)\n",
    "            nbr = Make_neighbor_sol(insol,40*(i*i))\n",
    "            b = Make_detail_neighbor(insol,i)\n",
    "            nbr+=b\n",
    "            \n",
    "        else:\n",
    "            if len(sol_s):\n",
    "                insol = sol_l[sol_s.index(max(sol_s))]\n",
    "                nbr = Make_neighbor_sol(insol,40*(i*i))\n",
    "                b = Make_detail_neighbor(insol,i)\n",
    "                nbr+=b\n",
    "#                 b = good_neighbor_sol(insol,10*i)\n",
    "#                 nbr+= b\n",
    "            else : \n",
    "                insol = Make_insol(i)\n",
    "                nbr = Make_neighbor_sol(insol,40*(i*i))\n",
    "                b = Make_detail_neighbor(insol,i)\n",
    "                nbr+=b\n",
    "#                 b = good_neighbor_sol(insol,10*i)\n",
    "#                 nbr+= b\n",
    "        sol_l = []\n",
    "        sol_s = []\n",
    "        #######여기서 nbr 열망함수 적용 \n",
    "        nbr = check_nbr(nbr,data,desire)\n",
    "        for j in tqdm_notebook(nbr):\n",
    "            \n",
    "            b_nbr = Make_valneighbor(j,5*(i))\n",
    "            b_nbr = check_nbr(b_nbr,data,desire)\n",
    "            sol = find_local_sol(b_nbr)\n",
    "            #######여기 벨류해???\n",
    "            if sol : \n",
    "                \n",
    "                a,b = Select_data(sol,data)\n",
    "                graph_dot.append(a)\n",
    "                sol_l.append(sol)\n",
    "                sol_s.append(a)\n",
    "                \n",
    "        if len(sol_s):\n",
    "            s = max(sol_s)\n",
    "            if cnt >= 2 :\n",
    "                if max(glo_scr) >= s:\n",
    "                    cnt2 += 1\n",
    "                    if cnt2 == 3:\n",
    "                        flg =False\n",
    "                else:\n",
    "                    cnt2 = 0\n",
    "                print(cnt2)\n",
    "            glo_sol.append(sol_l[sol_s.index(s)])\n",
    "            glo_scr.append(s)\n",
    "            desire = (sum(glo_scr)+base_score) / (len(glo_scr)+1)\n",
    "        else:\n",
    "            cnt3+=1\n",
    "            if cnt3 == 5:\n",
    "                flg = False\n",
    "            continue\n",
    "            \n",
    "        print(max(glo_scr))\n",
    "        print(glo_sol[glo_scr.index(max(glo_scr))])\n",
    "print(\"time :\", time.time() - start)"
   ]
  },
  {
   "cell_type": "code",
   "execution_count": 17,
   "metadata": {},
   "outputs": [
    {
     "data": {
      "image/png": "[encoded data removed]",
      "text/plain": [
       "<Figure size 432x288 with 1 Axes>"
      ]
     },
     "metadata": {
      "needs_background": "light"
     },
     "output_type": "display_data"
    }
   ],
   "source": [
    "q_plot = []\n",
    "x_plot = []\n",
    "max_plt = []\n",
    "mean_plt=[]\n",
    "for i in range(len(graph_dot)):\n",
    "    q_plot.append(graph_dot[i])\n",
    "    x_plot.append(i)\n",
    "    max_plt.append(max(q_plot))\n",
    "    mean_plt.append(0.05793219386042783)\n",
    "plt.figure()\n",
    "plt.plot(x_plot, q_plot,label = 'sol')\n",
    "plt.plot(x_plot, max_plt, label = 'Max_sol')\n",
    "plt.plot(x_plot, mean_plt,label = 'All_mean',linestyle = '--')\n",
    "\n",
    "plt.xlabel('neighbor_solution')\n",
    "plt.ylabel('Score')\n",
    "plt.title('final_model')\n",
    "plt.legend()\n",
    "plt.show()"
   ]
  },
  {
   "cell_type": "code",
   "execution_count": null,
   "metadata": {},
   "outputs": [],
   "source": [
    "for i in range(len(glo_sol)):\n",
    "    \n",
    "    str_a = ''\n",
    "    str_tm = ''\n",
    "    a,b = Select_data(glo_sol[i],data)\n",
    "    for j in range(len(glo_sol[i])):\n",
    "        q = glo_sol[i][j]\n",
    "        \n",
    "        t = ''\n",
    "        if q[0]==1:\n",
    "            t = '*'\n",
    "        else:\n",
    "            t = '-'\n",
    "        str_tm+= t\n",
    "        str_tm+=' ['\n",
    "        str_tm+='D'\n",
    "        str_tm+= str(q[1])\n",
    "        str_tm+= ' , '\n",
    "        str_tm+= str(q[2])\n",
    "        str_tm+='] '\n",
    "    str_a += str_tm\n",
    "    print('     스코어 : ',round(a,6),      '     NTU:', b,'해 : '  ,str_a, )"
   ]
  }
 ],
 "metadata": {
  "kernelspec": {
   "display_name": "Python 3",
   "language": "python",
   "name": "python3"
  },
  "language_info": {
   "codemirror_mode": {
    "name": "ipython",
    "version": 3
   },
   "file_extension": ".py",
   "mimetype": "text/x-python",
   "name": "python",
   "nbconvert_exporter": "python",
   "pygments_lexer": "ipython3",
   "version": "3.6.8"
  }
 },
 "nbformat": 4,
 "nbformat_minor": 2
}
