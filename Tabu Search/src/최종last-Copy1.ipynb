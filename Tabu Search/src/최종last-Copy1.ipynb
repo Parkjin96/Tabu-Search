{
 "cells": [
  {
   "cell_type": "code",
   "execution_count": 1,
   "metadata": {},
   "outputs": [],
   "source": [
    "from tqdm import tqdm_notebook\n",
    "import random\n",
    "import pandas as pd\n",
    "import numpy as np\n",
    "import time\n",
    "import matplotlib.pyplot as plt\n",
    "import warnings\n",
    "\n",
    "warnings.filterwarnings(action='ignore') \n",
    "\n",
    "\n",
    "\n",
    "data = pd.read_csv('x.csv')\n",
    "y = pd.read_csv('y.csv')\n",
    "max_num = 1100\n",
    "min_num = 900\n",
    "data['T'] = y\n",
    "tabu_list = []\n",
    "\n",
    "tag_tabu = []\n",
    "base_score = data['T'].mean()\n"
   ]
  },
  {
   "cell_type": "code",
   "execution_count": 2,
   "metadata": {},
   "outputs": [],
   "source": [
    "\n",
    "def good_neighbor_sol(sol,num):\n",
    "    tot_sol = []\n",
    "    t = sol.copy()\n",
    "    a = len(sol)\n",
    "    tag = []\n",
    "    for i in sol:\n",
    "        tag.append(i[1])\n",
    "    for i in range(num):    \n",
    "        for j in range(a):\n",
    "            \n",
    "            d = True\n",
    "            while(d):\n",
    "                tm = Make_insol(1)[0]\n",
    "                if tm[1] not in tag:\n",
    "                    sol[j] = tm\n",
    "#                     print('sol:',sol)\n",
    "                    tot_sol.append(sol)\n",
    "                    sol = t.copy()\n",
    "#                     print('sol2:',sol)\n",
    "                    d = False\n",
    "    return tot_sol"
   ]
  },
  {
   "cell_type": "code",
   "execution_count": 3,
   "metadata": {},
   "outputs": [],
   "source": [
    "\n",
    "\n",
    "def check_nbr(nbr, data,desire) : \n",
    "    new_nbr = []\n",
    "    for i in nbr : \n",
    "        a, b = Select_data(i,data)\n",
    "        if a > desire : \n",
    "            new_nbr.append(i)\n",
    "    return new_nbr\n"
   ]
  },
  {
   "cell_type": "code",
   "execution_count": 4,
   "metadata": {},
   "outputs": [],
   "source": [
    "\n",
    "def find_local_sol(nbr):\n",
    "    \n",
    "    tmsc = []\n",
    "    tmso = []\n",
    "    for i in nbr:\n",
    "        \n",
    "        a,b = Select_data(i,data)\n",
    "        \n",
    "        if min_num<=b<=max_num:\n",
    "            tmsc.append(a)\n",
    "            tmso.append(i)\n",
    "    if len(tmsc):\n",
    "        score = max(tmsc)\n",
    "        sol = tmso[tmsc.index(score)]\n",
    "        return sol\n",
    "    else:return 0"
   ]
  },
  {
   "cell_type": "code",
   "execution_count": 5,
   "metadata": {},
   "outputs": [],
   "source": [
    "\n",
    "def Make_valneighbor(sol,num):\n",
    "    tot_num_list = []\n",
    "    nbr_sol = []\n",
    "    tem = []\n",
    "    for i in range(len(sol)):\n",
    "        tem.append(sol[i][2])\n",
    "    tot_num_list.append(tem)\n",
    "    nbr = []\n",
    "    num1 = num\n",
    "    while(num) :\n",
    "        num-=1\n",
    "        flg = True\n",
    "        cnt = 0\n",
    "        while(flg):\n",
    "            cnt+=1\n",
    "            tem_ne = []\n",
    "            for i in range(len(sol)):\n",
    "                tem_ne.append(np.random.randint(1,11))\n",
    "            if (tem_ne not in tot_num_list) or cnt ==5:\n",
    "                flg = False\n",
    "                nbr.append(tem_ne)\n",
    "                tot_num_list.append(tem_ne)\n",
    "                \n",
    "                \n",
    "                \n",
    "    for i in range(num1):\n",
    "        nbr_sol.append([])\n",
    "     \n",
    "        for j in range(len(sol)):\n",
    "          \n",
    "            nbr_sol[i].append([sol[j][0],sol[j][1],nbr[i][j]])\n",
    "#     print(nbr_sol)\n",
    "    return(nbr_sol)"
   ]
  },
  {
   "cell_type": "code",
   "execution_count": 6,
   "metadata": {},
   "outputs": [],
   "source": [
    "\n",
    "def Make_neighbor_sol(sol,num):\n",
    "    tot_sol = []\n",
    "#     tot_sol.append(sol)\n",
    "    a = len(sol)\n",
    "    for i in range(num):\n",
    "        t = Make_insol(a)\n",
    "        if t[:3] not in tag_num_tabu:\n",
    "            tot_sol.append(Make_insol(a))\n",
    "        \n",
    "    return tot_sol"
   ]
  },
  {
   "cell_type": "code",
   "execution_count": 7,
   "metadata": {},
   "outputs": [],
   "source": [
    "\n",
    "def Make_neighbor_sol2(sol,num):\n",
    "    tot_sol = []\n",
    "#     tot_sol.append(sol)\n",
    "    a = len(sol)\n",
    "    for i in range(num):\n",
    "        t = Make_insol(a)\n",
    "        if t[:2] not in tag_num_tabu:\n",
    "            tot_sol.append(Make_insol(a))\n",
    "        \n",
    "    return tot_sol"
   ]
  },
  {
   "cell_type": "code",
   "execution_count": 8,
   "metadata": {},
   "outputs": [],
   "source": [
    "\n",
    "def Select_data(sol,data):\n",
    "    local_data = data.copy()\n",
    "    for i in range(len(sol)):\n",
    "        if sol[i][0] :\n",
    "            new_data = local_data[data.iloc[:,sol[i][1]] >= sol[i][2]]\n",
    "        else:\n",
    "            new_data = local_data[data.iloc[:,sol[i][1]] < sol[i][2]]\n",
    "        local_data = new_data\n",
    "    score = new_data['T'].mean()\n",
    "    len_data = len(new_data)\n",
    "    return score, len_data"
   ]
  },
  {
   "cell_type": "code",
   "execution_count": 9,
   "metadata": {},
   "outputs": [],
   "source": [
    "\n",
    "def Make_detail_neighbor(sol):\n",
    "    tot = []\n",
    "    b = good_neighbor_sol(sol,50)\n",
    "    for i in b:\n",
    "        tot += Make_valneighbor(i,10)\n",
    "    return tot\n"
   ]
  },
  {
   "cell_type": "code",
   "execution_count": 10,
   "metadata": {},
   "outputs": [],
   "source": [
    "\n",
    "def Make_insol(sol_num):\n",
    "    sol = []\n",
    "    for i in range(sol_num):\n",
    "        if i ==0:\n",
    "            d = [1,np.random.randint(50),np.random.randint(1,11)]\n",
    "            sol.append(d)\n",
    "            tag_num_tabu.append(d[:2])\n",
    "        else:\n",
    "            d = [np.random.randint(2),np.random.randint(50),np.random.randint(1,11)]\n",
    "            sol.append(d)\n",
    "            tag_num_tabu.append(d[:2])\n",
    "    return sol\n"
   ]
  },
  {
   "cell_type": "code",
   "execution_count": 11,
   "metadata": {},
   "outputs": [
    {
     "data": {
      "application/vnd.jupyter.widget-view+json": {
       "model_id": "c71cd420c4db43d6883367078f103e42",
       "version_major": 2,
       "version_minor": 0
      },
      "text/plain": [
       "HBox(children=(IntProgress(value=0, max=5), HTML(value='')))"
      ]
     },
     "metadata": {},
     "output_type": "display_data"
    },
    {
     "name": "stdout",
     "output_type": "stream",
     "text": [
      "1\n",
      "i는 1\n"
     ]
    },
    {
     "data": {
      "application/vnd.jupyter.widget-view+json": {
       "model_id": "7e87f8005f614a1ea7ec9dffda8fcae7",
       "version_major": 2,
       "version_minor": 0
      },
      "text/plain": [
       "HBox(children=(IntProgress(value=0, max=43), HTML(value='')))"
      ]
     },
     "metadata": {},
     "output_type": "display_data"
    },
    {
     "name": "stdout",
     "output_type": "stream",
     "text": [
      "\n"
     ]
    },
    {
     "ename": "KeyboardInterrupt",
     "evalue": "",
     "output_type": "error",
     "traceback": [
      "\u001b[1;31m---------------------------------------------------------------------------\u001b[0m",
      "\u001b[1;31mKeyboardInterrupt\u001b[0m                         Traceback (most recent call last)",
      "\u001b[1;32m<ipython-input-11-978516b9e592>\u001b[0m in \u001b[0;36m<module>\u001b[1;34m\u001b[0m\n\u001b[0;32m     43\u001b[0m             \u001b[0mb_nbr\u001b[0m \u001b[1;33m=\u001b[0m \u001b[0mMake_valneighbor\u001b[0m\u001b[1;33m(\u001b[0m\u001b[0mj\u001b[0m\u001b[1;33m,\u001b[0m \u001b[1;36m6\u001b[0m\u001b[1;33m*\u001b[0m\u001b[1;33m(\u001b[0m\u001b[0mi\u001b[0m\u001b[1;33m)\u001b[0m\u001b[1;33m)\u001b[0m\u001b[1;33m\u001b[0m\u001b[1;33m\u001b[0m\u001b[0m\n\u001b[0;32m     44\u001b[0m             \u001b[0mb_nbr\u001b[0m \u001b[1;33m=\u001b[0m \u001b[0mcheck_nbr\u001b[0m\u001b[1;33m(\u001b[0m\u001b[0mb_nbr\u001b[0m\u001b[1;33m,\u001b[0m\u001b[0mdata\u001b[0m\u001b[1;33m,\u001b[0m\u001b[0mdesire\u001b[0m\u001b[1;33m)\u001b[0m\u001b[1;33m\u001b[0m\u001b[1;33m\u001b[0m\u001b[0m\n\u001b[1;32m---> 45\u001b[1;33m             \u001b[0msol\u001b[0m \u001b[1;33m=\u001b[0m \u001b[0mfind_local_sol\u001b[0m\u001b[1;33m(\u001b[0m\u001b[0mb_nbr\u001b[0m\u001b[1;33m)\u001b[0m\u001b[1;33m\u001b[0m\u001b[1;33m\u001b[0m\u001b[0m\n\u001b[0m\u001b[0;32m     46\u001b[0m             \u001b[1;32mif\u001b[0m \u001b[0msol\u001b[0m \u001b[1;33m:\u001b[0m\u001b[1;33m\u001b[0m\u001b[1;33m\u001b[0m\u001b[0m\n\u001b[0;32m     47\u001b[0m \u001b[1;33m\u001b[0m\u001b[0m\n",
      "\u001b[1;32m<ipython-input-4-725400fbb883>\u001b[0m in \u001b[0;36mfind_local_sol\u001b[1;34m(nbr)\u001b[0m\n\u001b[0;32m      5\u001b[0m     \u001b[1;32mfor\u001b[0m \u001b[0mi\u001b[0m \u001b[1;32min\u001b[0m \u001b[0mnbr\u001b[0m\u001b[1;33m:\u001b[0m\u001b[1;33m\u001b[0m\u001b[1;33m\u001b[0m\u001b[0m\n\u001b[0;32m      6\u001b[0m \u001b[1;33m\u001b[0m\u001b[0m\n\u001b[1;32m----> 7\u001b[1;33m         \u001b[0ma\u001b[0m\u001b[1;33m,\u001b[0m\u001b[0mb\u001b[0m \u001b[1;33m=\u001b[0m \u001b[0mSelect_data\u001b[0m\u001b[1;33m(\u001b[0m\u001b[0mi\u001b[0m\u001b[1;33m,\u001b[0m\u001b[0mdata\u001b[0m\u001b[1;33m)\u001b[0m\u001b[1;33m\u001b[0m\u001b[1;33m\u001b[0m\u001b[0m\n\u001b[0m\u001b[0;32m      8\u001b[0m \u001b[1;33m\u001b[0m\u001b[0m\n\u001b[0;32m      9\u001b[0m         \u001b[1;32mif\u001b[0m \u001b[0mmin_num\u001b[0m\u001b[1;33m<=\u001b[0m\u001b[0mb\u001b[0m\u001b[1;33m<=\u001b[0m\u001b[0mmax_num\u001b[0m\u001b[1;33m:\u001b[0m\u001b[1;33m\u001b[0m\u001b[1;33m\u001b[0m\u001b[0m\n",
      "\u001b[1;32m<ipython-input-8-bf68424baf3b>\u001b[0m in \u001b[0;36mSelect_data\u001b[1;34m(sol, data)\u001b[0m\n\u001b[0;32m      1\u001b[0m \u001b[1;32mdef\u001b[0m \u001b[0mSelect_data\u001b[0m\u001b[1;33m(\u001b[0m\u001b[0msol\u001b[0m\u001b[1;33m,\u001b[0m\u001b[0mdata\u001b[0m\u001b[1;33m)\u001b[0m\u001b[1;33m:\u001b[0m\u001b[1;33m\u001b[0m\u001b[1;33m\u001b[0m\u001b[0m\n\u001b[1;32m----> 2\u001b[1;33m     \u001b[0mlocal_data\u001b[0m \u001b[1;33m=\u001b[0m \u001b[0mdata\u001b[0m\u001b[1;33m.\u001b[0m\u001b[0mcopy\u001b[0m\u001b[1;33m(\u001b[0m\u001b[1;33m)\u001b[0m\u001b[1;33m\u001b[0m\u001b[1;33m\u001b[0m\u001b[0m\n\u001b[0m\u001b[0;32m      3\u001b[0m     \u001b[1;32mfor\u001b[0m \u001b[0mi\u001b[0m \u001b[1;32min\u001b[0m \u001b[0mrange\u001b[0m\u001b[1;33m(\u001b[0m\u001b[0mlen\u001b[0m\u001b[1;33m(\u001b[0m\u001b[0msol\u001b[0m\u001b[1;33m)\u001b[0m\u001b[1;33m)\u001b[0m\u001b[1;33m:\u001b[0m\u001b[1;33m\u001b[0m\u001b[1;33m\u001b[0m\u001b[0m\n\u001b[0;32m      4\u001b[0m         \u001b[1;32mif\u001b[0m \u001b[0msol\u001b[0m\u001b[1;33m[\u001b[0m\u001b[0mi\u001b[0m\u001b[1;33m]\u001b[0m\u001b[1;33m[\u001b[0m\u001b[1;36m0\u001b[0m\u001b[1;33m]\u001b[0m \u001b[1;33m:\u001b[0m\u001b[1;33m\u001b[0m\u001b[1;33m\u001b[0m\u001b[0m\n\u001b[0;32m      5\u001b[0m             \u001b[0mnew_data\u001b[0m \u001b[1;33m=\u001b[0m \u001b[0mlocal_data\u001b[0m\u001b[1;33m[\u001b[0m\u001b[0mdata\u001b[0m\u001b[1;33m.\u001b[0m\u001b[0miloc\u001b[0m\u001b[1;33m[\u001b[0m\u001b[1;33m:\u001b[0m\u001b[1;33m,\u001b[0m\u001b[0msol\u001b[0m\u001b[1;33m[\u001b[0m\u001b[0mi\u001b[0m\u001b[1;33m]\u001b[0m\u001b[1;33m[\u001b[0m\u001b[1;36m1\u001b[0m\u001b[1;33m]\u001b[0m\u001b[1;33m]\u001b[0m \u001b[1;33m>=\u001b[0m \u001b[0msol\u001b[0m\u001b[1;33m[\u001b[0m\u001b[0mi\u001b[0m\u001b[1;33m]\u001b[0m\u001b[1;33m[\u001b[0m\u001b[1;36m2\u001b[0m\u001b[1;33m]\u001b[0m\u001b[1;33m]\u001b[0m\u001b[1;33m\u001b[0m\u001b[1;33m\u001b[0m\u001b[0m\n",
      "\u001b[1;32mc:\\anaconda3\\lib\\site-packages\\pandas\\core\\generic.py\u001b[0m in \u001b[0;36mcopy\u001b[1;34m(self, deep)\u001b[0m\n\u001b[0;32m   5802\u001b[0m         \u001b[0mdtype\u001b[0m\u001b[1;33m:\u001b[0m \u001b[0mobject\u001b[0m\u001b[1;33m\u001b[0m\u001b[1;33m\u001b[0m\u001b[0m\n\u001b[0;32m   5803\u001b[0m         \"\"\"\n\u001b[1;32m-> 5804\u001b[1;33m         \u001b[0mdata\u001b[0m \u001b[1;33m=\u001b[0m \u001b[0mself\u001b[0m\u001b[1;33m.\u001b[0m\u001b[0m_data\u001b[0m\u001b[1;33m.\u001b[0m\u001b[0mcopy\u001b[0m\u001b[1;33m(\u001b[0m\u001b[0mdeep\u001b[0m\u001b[1;33m=\u001b[0m\u001b[0mdeep\u001b[0m\u001b[1;33m)\u001b[0m\u001b[1;33m\u001b[0m\u001b[1;33m\u001b[0m\u001b[0m\n\u001b[0m\u001b[0;32m   5805\u001b[0m         \u001b[1;32mreturn\u001b[0m \u001b[0mself\u001b[0m\u001b[1;33m.\u001b[0m\u001b[0m_constructor\u001b[0m\u001b[1;33m(\u001b[0m\u001b[0mdata\u001b[0m\u001b[1;33m)\u001b[0m\u001b[1;33m.\u001b[0m\u001b[0m__finalize__\u001b[0m\u001b[1;33m(\u001b[0m\u001b[0mself\u001b[0m\u001b[1;33m)\u001b[0m\u001b[1;33m\u001b[0m\u001b[1;33m\u001b[0m\u001b[0m\n\u001b[0;32m   5806\u001b[0m \u001b[1;33m\u001b[0m\u001b[0m\n",
      "\u001b[1;32mc:\\anaconda3\\lib\\site-packages\\pandas\\core\\internals\\managers.py\u001b[0m in \u001b[0;36mcopy\u001b[1;34m(self, deep)\u001b[0m\n\u001b[0;32m    732\u001b[0m             \u001b[0mnew_axes\u001b[0m \u001b[1;33m=\u001b[0m \u001b[0mlist\u001b[0m\u001b[1;33m(\u001b[0m\u001b[0mself\u001b[0m\u001b[1;33m.\u001b[0m\u001b[0maxes\u001b[0m\u001b[1;33m)\u001b[0m\u001b[1;33m\u001b[0m\u001b[1;33m\u001b[0m\u001b[0m\n\u001b[0;32m    733\u001b[0m         return self.apply('copy', axes=new_axes, deep=deep,\n\u001b[1;32m--> 734\u001b[1;33m                           do_integrity_check=False)\n\u001b[0m\u001b[0;32m    735\u001b[0m \u001b[1;33m\u001b[0m\u001b[0m\n\u001b[0;32m    736\u001b[0m     \u001b[1;32mdef\u001b[0m \u001b[0mas_array\u001b[0m\u001b[1;33m(\u001b[0m\u001b[0mself\u001b[0m\u001b[1;33m,\u001b[0m \u001b[0mtranspose\u001b[0m\u001b[1;33m=\u001b[0m\u001b[1;32mFalse\u001b[0m\u001b[1;33m,\u001b[0m \u001b[0mitems\u001b[0m\u001b[1;33m=\u001b[0m\u001b[1;32mNone\u001b[0m\u001b[1;33m)\u001b[0m\u001b[1;33m:\u001b[0m\u001b[1;33m\u001b[0m\u001b[1;33m\u001b[0m\u001b[0m\n",
      "\u001b[1;32mc:\\anaconda3\\lib\\site-packages\\pandas\\core\\internals\\managers.py\u001b[0m in \u001b[0;36mapply\u001b[1;34m(self, f, axes, filter, do_integrity_check, consolidate, **kwargs)\u001b[0m\n\u001b[0;32m    393\u001b[0m                                             copy=align_copy)\n\u001b[0;32m    394\u001b[0m \u001b[1;33m\u001b[0m\u001b[0m\n\u001b[1;32m--> 395\u001b[1;33m             \u001b[0mapplied\u001b[0m \u001b[1;33m=\u001b[0m \u001b[0mgetattr\u001b[0m\u001b[1;33m(\u001b[0m\u001b[0mb\u001b[0m\u001b[1;33m,\u001b[0m \u001b[0mf\u001b[0m\u001b[1;33m)\u001b[0m\u001b[1;33m(\u001b[0m\u001b[1;33m**\u001b[0m\u001b[0mkwargs\u001b[0m\u001b[1;33m)\u001b[0m\u001b[1;33m\u001b[0m\u001b[1;33m\u001b[0m\u001b[0m\n\u001b[0m\u001b[0;32m    396\u001b[0m             \u001b[0mresult_blocks\u001b[0m \u001b[1;33m=\u001b[0m \u001b[0m_extend_blocks\u001b[0m\u001b[1;33m(\u001b[0m\u001b[0mapplied\u001b[0m\u001b[1;33m,\u001b[0m \u001b[0mresult_blocks\u001b[0m\u001b[1;33m)\u001b[0m\u001b[1;33m\u001b[0m\u001b[1;33m\u001b[0m\u001b[0m\n\u001b[0;32m    397\u001b[0m \u001b[1;33m\u001b[0m\u001b[0m\n",
      "\u001b[1;32mc:\\anaconda3\\lib\\site-packages\\pandas\\core\\internals\\blocks.py\u001b[0m in \u001b[0;36mcopy\u001b[1;34m(self, deep)\u001b[0m\n\u001b[0;32m    751\u001b[0m         \u001b[0mvalues\u001b[0m \u001b[1;33m=\u001b[0m \u001b[0mself\u001b[0m\u001b[1;33m.\u001b[0m\u001b[0mvalues\u001b[0m\u001b[1;33m\u001b[0m\u001b[1;33m\u001b[0m\u001b[0m\n\u001b[0;32m    752\u001b[0m         \u001b[1;32mif\u001b[0m \u001b[0mdeep\u001b[0m\u001b[1;33m:\u001b[0m\u001b[1;33m\u001b[0m\u001b[1;33m\u001b[0m\u001b[0m\n\u001b[1;32m--> 753\u001b[1;33m             \u001b[0mvalues\u001b[0m \u001b[1;33m=\u001b[0m \u001b[0mvalues\u001b[0m\u001b[1;33m.\u001b[0m\u001b[0mcopy\u001b[0m\u001b[1;33m(\u001b[0m\u001b[1;33m)\u001b[0m\u001b[1;33m\u001b[0m\u001b[1;33m\u001b[0m\u001b[0m\n\u001b[0m\u001b[0;32m    754\u001b[0m         \u001b[1;32mreturn\u001b[0m \u001b[0mself\u001b[0m\u001b[1;33m.\u001b[0m\u001b[0mmake_block_same_class\u001b[0m\u001b[1;33m(\u001b[0m\u001b[0mvalues\u001b[0m\u001b[1;33m)\u001b[0m\u001b[1;33m\u001b[0m\u001b[1;33m\u001b[0m\u001b[0m\n\u001b[0;32m    755\u001b[0m \u001b[1;33m\u001b[0m\u001b[0m\n",
      "\u001b[1;31mKeyboardInterrupt\u001b[0m: "
     ]
    }
   ],
   "source": [
    "#80 /5     100/ 6\n",
    "start = time.time()\n",
    "\n",
    "\n",
    "graph_dot = []\n",
    "tag_num_tabu = []\n",
    "\n",
    "glo_sol = []\n",
    "glo_scr = []\n",
    "desire = base_score\n",
    "for i in tqdm_notebook(range(1,6)):\n",
    "    print(i)\n",
    "    \n",
    "    tag_num_tabu = []\n",
    "    sol_l = []\n",
    "    sol_s = []\n",
    "    real_sol = []\n",
    "    real_scr = []\n",
    "    flg=True\n",
    "    cnt = 0\n",
    "    cnt2 = 0\n",
    "    while(flg):\n",
    "        cnt+=1\n",
    "        print('i는',i)\n",
    "        if cnt == 1:\n",
    "            insol = Make_insol(i)\n",
    "            nbr = Make_neighbor_sol(insol,130*(i*i))\n",
    "            \n",
    "        else:\n",
    "            if len(sol_s):\n",
    "                insol = sol_l[sol_s.index(max(sol_s))]\n",
    "                nbr = Make_neighbor_sol(insol,130*(i*i))\n",
    "            else : \n",
    "                insol = Make_insol(i)\n",
    "                nbr = Make_neighbor_sol(insol,130*(i*i))\n",
    "                \n",
    "        sol_l = []\n",
    "        sol_s = []\n",
    "        #######여기서 nbr 열망함수 적용 \n",
    "        nbr = check_nbr(nbr,data,desire)\n",
    "        for j in tqdm_notebook(nbr):\n",
    "            \n",
    "            b_nbr = Make_valneighbor(j, 6*(i))\n",
    "            b_nbr = check_nbr(b_nbr,data,desire)\n",
    "            sol = find_local_sol(b_nbr)\n",
    "            if sol : \n",
    "                \n",
    "                a,b = Select_data(sol,data)\n",
    "                graph_dot.append(a)\n",
    "                sol_l.append(sol)\n",
    "                sol_s.append(a)\n",
    "                \n",
    "        if len(sol_s):\n",
    "            s = max(sol_s)\n",
    "            \n",
    "#         print(sol_l)\n",
    "            if cnt >= 2 :\n",
    "            \n",
    "#             print(len(sol_s),max(sol_s),sol_s)\n",
    "                if max(glo_scr) >= s:\n",
    "                    cnt2 += 1\n",
    "                    if cnt2 == 3:\n",
    "                        \n",
    "                        flg =False\n",
    "                else:\n",
    "                    cnt2 = 0\n",
    "                print(cnt2)\n",
    "        else :\n",
    "            continue        \n",
    "        \n",
    "      \n",
    "        glo_sol.append(sol_l[sol_s.index(s)])\n",
    "        glo_scr.append(s)\n",
    "        desire = (sum(glo_scr)+base_score) / (len(glo_scr)+1)\n",
    "#         print(glo_scr)\n",
    "\n",
    "        print(max(glo_scr))\n",
    "        print(glo_sol[glo_scr.index(max(glo_scr))])\n",
    "print(\"time :\", time.time() - start)\n"
   ]
  },
  {
   "cell_type": "code",
   "execution_count": null,
   "metadata": {},
   "outputs": [],
   "source": [
    "\n",
    "\n",
    "\n",
    "\n",
    "\n",
    "\n",
    "\n",
    "q_plot = []\n",
    "x_plot = []\n",
    "max_plt = []\n",
    "mean_plt=[]\n",
    "for i in range(len(graph_dot)):\n",
    "    q_plot.append(graph_dot[i])\n",
    "    x_plot.append(i)\n",
    "    max_plt.append(max(q_plot))\n",
    "    mean_plt.append(0.05793219386042783)\n",
    "plt.figure()\n",
    "plt.plot(x_plot, q_plot,label = 'sol')\n",
    "plt.plot(x_plot, max_plt, label = 'Max_sol')\n",
    "plt.plot(x_plot, mean_plt,label = 'All_mean',linestyle = '--')\n",
    "\n",
    "plt.xlabel('neighbor_solution')\n",
    "plt.ylabel('Score')\n",
    "plt.title('final_model')\n",
    "plt.legend()\n",
    "plt.show()\n",
    "\n",
    "max(glo_scr)\n",
    "\n",
    "for i in range(len(glo_sol)):\n",
    "    \n",
    "    str_a = ''\n",
    "    str_tm = ''\n",
    "    a,b = Select_data(glo_sol[i],data)\n",
    "    for j in range(len(glo_sol[i])):\n",
    "        q = glo_sol[i][j]\n",
    "        \n",
    "        t = ''\n",
    "        if q[0]==1:\n",
    "            t = '*'\n",
    "        else:\n",
    "            t = '-'\n",
    "        str_tm+= t\n",
    "        str_tm+=' ['\n",
    "        str_tm+='D'\n",
    "        str_tm+= str(q[1])\n",
    "        str_tm+= ' , '\n",
    "        str_tm+= str(q[2])\n",
    "        str_tm+='] '\n",
    "    str_a += str_tm\n",
    "    print('     스코어 : ',round(a,5),      '     NTU:', b,'       해 : '  ,str_a, )\n",
    "\n",
    "start = time.time()\n",
    "\n",
    "\n",
    "graph_dot = []\n",
    "tag_num_tabu = []\n",
    "\n",
    "glo_sol = []\n",
    "glo_scr = []\n",
    "desire = base_score\n",
    "for i in tqdm_notebook(range(1,6)):\n",
    "    print(i)\n",
    "    \n",
    "    tag_num_tabu = []\n",
    "    sol_l = []\n",
    "    sol_s = []\n",
    "    real_sol = []\n",
    "    real_scr = []\n",
    "    flg=True\n",
    "    cnt = 0\n",
    "    cnt2 = 0\n",
    "    while(flg):\n",
    "        cnt+=1\n",
    "        print('i는',i)\n",
    "        if cnt == 1:\n",
    "            insol = Make_insol(i)\n",
    "            nbr = Make_neighbor_sol(insol,80*(i*i))\n",
    "            \n",
    "        else:\n",
    "            if len(sol_s):\n",
    "                insol = sol_l[sol_s.index(max(sol_s))]\n",
    "                nbr = Make_neighbor_sol(insol,80*(i*i))\n",
    "            else : \n",
    "                insol = Make_insol(i)\n",
    "                nbr = Make_neighbor_sol(insol,80*(i*i))\n",
    "        sol_l = []\n",
    "        sol_s = []\n",
    "        #######여기서 nbr 열망함수 적용 \n",
    "        nbr = check_nbr(nbr,data,desire)\n",
    "        for j in tqdm_notebook(nbr):\n",
    "            \n",
    "            b_nbr = Make_valneighbor(j, 7*(i))\n",
    "            b_nbr = check_nbr(b_nbr,data,desire)\n",
    "            \n",
    "            sol = find_local_sol(b_nbr)\n",
    "            if sol : \n",
    "                \n",
    "                a,b = Select_data(sol,data)\n",
    "                graph_dot.append(a)\n",
    "                sol_l.append(sol)\n",
    "                sol_s.append(a)\n",
    "                \n",
    "        if len(sol_s):\n",
    "            s = max(sol_s)\n",
    "            \n",
    "#         print(sol_l)\n",
    "            if cnt >= 2 :\n",
    "            \n",
    "#             print(len(sol_s),max(sol_s),sol_s)\n",
    "                if max(glo_scr) >= s:\n",
    "                    cnt2 += 1\n",
    "                    if cnt2 == 3:\n",
    "                        print(cnt2)\n",
    "                        flg =False\n",
    "                else:\n",
    "                    cnt2 = 0\n",
    "        else :\n",
    "            continue        \n",
    "        \n",
    "      \n",
    "        glo_sol.append(sol_l[sol_s.index(s)])\n",
    "        glo_scr.append(s)\n",
    "        desire = (sum(glo_scr)+base_score) / (len(glo_scr)+1)\n",
    "#         print(glo_scr)\n",
    "\n",
    "        print(max(glo_scr))\n",
    "        print(glo_sol[glo_scr.index(max(glo_scr))])\n",
    "print(\"time :\", time.time() - start)\n",
    "\n",
    "q_plot = []\n",
    "x_plot = []\n",
    "max_plt = []\n",
    "mean_plt=[]\n",
    "for i in range(len(graph_dot)):\n",
    "    q_plot.append(graph_dot[i])\n",
    "    x_plot.append(i)\n",
    "    max_plt.append(max(q_plot))\n",
    "    mean_plt.append(0.05793219386042783)\n",
    "plt.figure()\n",
    "plt.plot(x_plot, q_plot,label = 'sol')\n",
    "plt.plot(x_plot, max_plt, label = 'Max_sol')\n",
    "plt.plot(x_plot, mean_plt,label = 'All_mean',linestyle = '--')\n",
    "\n",
    "plt.xlabel('neighbor_solution')\n",
    "plt.ylabel('Score')\n",
    "plt.title('final_model')\n",
    "plt.legend()\n",
    "plt.show()\n",
    "\n",
    "for i in range(len(glo_sol)):\n",
    "    \n",
    "    str_a = ''\n",
    "    str_tm = ''\n",
    "    a,b = Select_data(glo_sol[i],data)\n",
    "    for j in range(len(glo_sol[i])):\n",
    "        q = glo_sol[i][j]\n",
    "        \n",
    "        t = ''\n",
    "        if q[0]==1:\n",
    "            t = '*'\n",
    "        else:\n",
    "            t = '-'\n",
    "        str_tm+= t\n",
    "        str_tm+=' ['\n",
    "        str_tm+='D'\n",
    "        str_tm+= str(q[1])\n",
    "        str_tm+= ' , '\n",
    "        str_tm+= str(q[2])\n",
    "        str_tm+='] '\n",
    "    str_a += str_tm\n",
    "    print('     스코어 : ',round(a,6),      '     NTU:', b,'해 : '  ,str_a, )\n",
    "\n",
    "완전 랜덤이면 결과가 좋았던 해를 이용하지 못하는 느낌\n",
    "아래처럼 적용하면 좋을듯\n",
    "좋은해 나오면 len(sol) 해서 조건 2개 이상이면 이웃해에 하나씩 바꾸는거 추가\n",
    "ex\n",
    "nbr = []\n",
    "for i in sol_list:\n",
    "    sol[i] = make_insol(1,data)[0]\n",
    "    이런식\n",
    "\n",
    "#80 /5     100/ 6\n",
    "start = time.time()\n",
    "\n",
    "\n",
    "graph_dot = []\n",
    "tag_num_tabu = []\n",
    "\n",
    "glo_sol = []\n",
    "glo_scr = []\n",
    "desire = base_score\n",
    "for i in tqdm_notebook(range(1,6)):\n",
    "    print(i)\n",
    "    \n",
    "    tag_num_tabu = []\n",
    "    sol_l = []\n",
    "    sol_s = []\n",
    "    real_sol = []\n",
    "    real_scr = []\n",
    "    flg=True\n",
    "    cnt = 0\n",
    "    cnt2 = 0\n",
    "    while(flg):\n",
    "        cnt+=1\n",
    "        print('i는',i)\n",
    "        if cnt == 1:\n",
    "            insol = Make_insol(i)\n",
    "            nbr = Make_neighbor_sol(insol,15*(i*i*i))\n",
    "            \n",
    "        else:\n",
    "            if len(sol_s):\n",
    "                insol = sol_l[sol_s.index(max(sol_s))]\n",
    "                nbr = Make_neighbor_sol(insol,15*(i*i*i))\n",
    "            else : \n",
    "                insol = Make_insol(i)\n",
    "                nbr = Make_neighbor_sol(insol,15*(i*i*i))\n",
    "                \n",
    "        sol_l = []\n",
    "        sol_s = []\n",
    "        #######여기서 nbr 열망함수 적용 \n",
    "        nbr = check_nbr(nbr,data,desire)\n",
    "        for j in tqdm_notebook(nbr):\n",
    "            \n",
    "            b_nbr = Make_valneighbor(j, 6*(i))\n",
    "            b_nbr = check_nbr(b_nbr,data,desire)\n",
    "            sol = find_local_sol(b_nbr)\n",
    "            if sol : \n",
    "                \n",
    "                a,b = Select_data(sol,data)\n",
    "                graph_dot.append(a)\n",
    "                sol_l.append(sol)\n",
    "                sol_s.append(a)\n",
    "                \n",
    "        if len(sol_s):\n",
    "            s = max(sol_s)\n",
    "            \n",
    "#         print(sol_l)\n",
    "            if cnt >= 2 :\n",
    "            \n",
    "#             print(len(sol_s),max(sol_s),sol_s)\n",
    "                if max(glo_scr) >= s:\n",
    "                    cnt2 += 1\n",
    "                    if cnt2 == 3:\n",
    "                        \n",
    "                        flg =False\n",
    "                else:\n",
    "                    cnt2 = 0\n",
    "                print(cnt2)\n",
    "        else :\n",
    "            continue        \n",
    "        \n",
    "      \n",
    "        glo_sol.append(sol_l[sol_s.index(s)])\n",
    "        glo_scr.append(s)\n",
    "        desire = (sum(glo_scr)+base_score) / (len(glo_scr)+1)\n",
    "#         print(glo_scr)\n",
    "\n",
    "        print(max(glo_scr))\n",
    "        print(glo_sol[glo_scr.index(max(glo_scr))])\n",
    "print(\"time :\", time.time() - start)\n",
    "\n",
    "q_plot = []\n",
    "x_plot = []\n",
    "max_plt = []\n",
    "mean_plt=[]\n",
    "for i in range(len(graph_dot)):\n",
    "    q_plot.append(graph_dot[i])\n",
    "    x_plot.append(i)\n",
    "    max_plt.append(max(q_plot))\n",
    "    mean_plt.append(0.05793219386042783)\n",
    "plt.figure()\n",
    "plt.plot(x_plot, q_plot,label = 'sol')\n",
    "plt.plot(x_plot, max_plt, label = 'Max_sol')\n",
    "plt.plot(x_plot, mean_plt,label = 'All_mean',linestyle = '--')\n",
    "\n",
    "plt.xlabel('neighbor_solution')\n",
    "plt.ylabel('Score')\n",
    "plt.title('final_model')\n",
    "plt.legend()\n",
    "plt.show()\n",
    "\n",
    "#80 /5     100/ 6\n",
    "start = time.time()\n",
    "\n",
    "\n",
    "graph_dot = []\n",
    "tag_num_tabu = []\n",
    "\n",
    "glo_sol = []\n",
    "glo_scr = []\n",
    "desire = base_score\n",
    "for i in tqdm_notebook(range(1,6)):\n",
    "    print(i)\n",
    "    \n",
    "    tag_num_tabu = []\n",
    "    sol_l = []\n",
    "    sol_s = []\n",
    "    real_sol = []\n",
    "    real_scr = []\n",
    "    flg=True\n",
    "    cnt = 0\n",
    "    cnt2 = 0\n",
    "    while(flg):\n",
    "        cnt+=1\n",
    "        print('i는',i)\n",
    "        if cnt == 1:\n",
    "            insol = Make_insol(i)\n",
    "            nbr = Make_neighbor_sol(insol,120*(i*i))\n",
    "            \n",
    "        else:\n",
    "            if len(sol_s):\n",
    "                insol = sol_l[sol_s.index(max(sol_s))]\n",
    "                nbr = Make_neighbor_sol(insol,120*(i*i))\n",
    "            else : \n",
    "                insol = Make_insol(i)\n",
    "                nbr = Make_neighbor_sol(insol,120*(i*i))\n",
    "                \n",
    "        sol_l = []\n",
    "        sol_s = []\n",
    "        #######여기서 nbr 열망함수 적용 \n",
    "        nbr = check_nbr(nbr,data,desire)\n",
    "        for j in tqdm_notebook(nbr):\n",
    "            \n",
    "            b_nbr = Make_valneighbor(j, 5*(i))\n",
    "            b_nbr = check_nbr(b_nbr,data,desire)\n",
    "            sol = find_local_sol(b_nbr)\n",
    "            if sol : \n",
    "                \n",
    "                a,b = Select_data(sol,data)\n",
    "                graph_dot.append(a)\n",
    "                sol_l.append(sol)\n",
    "                sol_s.append(a)\n",
    "                \n",
    "        if len(sol_s):\n",
    "            s = max(sol_s)\n",
    "            \n",
    "#         print(sol_l)\n",
    "            if cnt >= 2 :\n",
    "            \n",
    "#             print(len(sol_s),max(sol_s),sol_s)\n",
    "                if max(glo_scr) >= s:\n",
    "                    cnt2 += 1\n",
    "                    if cnt2 == 3:\n",
    "                        \n",
    "                        flg =False\n",
    "                else:\n",
    "                    cnt2 = 0\n",
    "                print(cnt2)\n",
    "        else :\n",
    "            continue        \n",
    "        \n",
    "      \n",
    "        glo_sol.append(sol_l[sol_s.index(s)])\n",
    "        glo_scr.append(s)\n",
    "        desire = (sum(glo_scr)+base_score) / (len(glo_scr)+1)\n",
    "#         print(glo_scr)\n",
    "\n",
    "        print(max(glo_scr))\n",
    "        print(glo_sol[glo_scr.index(max(glo_scr))])\n",
    "print(\"time :\", time.time() - start)\n",
    "\n",
    "q_plot = []\n",
    "x_plot = []\n",
    "max_plt = []\n",
    "mean_plt=[]\n",
    "for i in range(len(graph_dot)):\n",
    "    q_plot.append(graph_dot[i])\n",
    "    x_plot.append(i)\n",
    "    max_plt.append(max(q_plot))\n",
    "    mean_plt.append(0.05793219386042783)\n",
    "plt.figure()\n",
    "plt.plot(x_plot, q_plot,label = 'sol')\n",
    "plt.plot(x_plot, max_plt, label = 'Max_sol')\n",
    "plt.plot(x_plot, mean_plt,label = 'All_mean',linestyle = '--')\n",
    "\n",
    "plt.xlabel('neighbor_solution')\n",
    "plt.ylabel('Score')\n",
    "plt.title('final_model')\n",
    "plt.legend()\n",
    "plt.show()\n",
    "\n",
    "#80 /5     100/ 6\n",
    "start = time.time()\n",
    "\n",
    "\n",
    "graph_dot = []\n",
    "tag_num_tabu = []\n",
    "\n",
    "glo_sol = []\n",
    "glo_scr = []\n",
    "desire = base_score\n",
    "for i in tqdm_notebook(range(1,6)):\n",
    "    print(i)\n",
    "    \n",
    "    tag_num_tabu = []\n",
    "    sol_l = []\n",
    "    sol_s = []\n",
    "    real_sol = []\n",
    "    real_scr = []\n",
    "    flg=True\n",
    "    cnt = 0\n",
    "    cnt2 = 0\n",
    "    while(flg):\n",
    "        cnt+=1\n",
    "        print('i는',i)\n",
    "        if cnt == 1:\n",
    "            insol = Make_insol(i)\n",
    "            nbr = Make_neighbor_sol(insol,80*(i*i))\n",
    "            \n",
    "        else:\n",
    "            if len(sol_s):\n",
    "                insol = sol_l[sol_s.index(max(sol_s))]\n",
    "                nbr = Make_neighbor_sol(insol,80*(i*i))\n",
    "                b = good_neighbor_sol(insol,10*i)\n",
    "                nbr+= b\n",
    "            else : \n",
    "                insol = Make_insol(i)\n",
    "                nbr = Make_neighbor_sol(insol,80*(i*i))\n",
    "                b = good_neighbor_sol(insol,10*i)\n",
    "                nbr+= b\n",
    "        sol_l = []\n",
    "        sol_s = []\n",
    "        #######여기서 nbr 열망함수 적용 \n",
    "        nbr = check_nbr(nbr,data,desire)\n",
    "        for j in tqdm_notebook(nbr):\n",
    "            \n",
    "            b_nbr = Make_valneighbor(j,5*(i))\n",
    "            b_nbr = check_nbr(b_nbr,data,desire)\n",
    "            sol = find_local_sol(b_nbr)\n",
    "            if sol : \n",
    "                \n",
    "                a,b = Select_data(sol,data)\n",
    "                graph_dot.append(a)\n",
    "                sol_l.append(sol)\n",
    "                sol_s.append(a)\n",
    "                \n",
    "        if len(sol_s):\n",
    "            s = max(sol_s)\n",
    "            \n",
    "#         print(sol_l)\n",
    "            if cnt >= 2 :\n",
    "            \n",
    "#             print(len(sol_s),max(sol_s),sol_s)\n",
    "                if max(glo_scr) >= s:\n",
    "                    cnt2 += 1\n",
    "                    if cnt2 == 3:\n",
    "                        \n",
    "                        flg =False\n",
    "                else:\n",
    "                    cnt2 = 0\n",
    "                print(cnt2)\n",
    "              \n",
    "        \n",
    "      \n",
    "            glo_sol.append(sol_l[sol_s.index(s)])\n",
    "            glo_scr.append(s)\n",
    "            desire = (sum(glo_scr)+base_score) / (len(glo_scr)+1)\n",
    "#         print(glo_scr)\n",
    "        else:continue\n",
    "        print(max(glo_scr))\n",
    "        print(glo_sol[glo_scr.index(max(glo_scr))])\n",
    "print(\"time :\", time.time() - start)\n",
    "\n",
    "#80 /5     100/ 6\n",
    "\n",
    "\n",
    "q_plot = []\n",
    "x_plot = []\n",
    "max_plt = []\n",
    "mean_plt=[]\n",
    "for i in range(len(graph_dot)):\n",
    "    q_plot.append(graph_dot[i])\n",
    "    x_plot.append(i)\n",
    "    max_plt.append(max(q_plot))\n",
    "    mean_plt.append(0.05793219386042783)\n",
    "plt.figure()\n",
    "plt.plot(x_plot, q_plot,label = 'sol')\n",
    "plt.plot(x_plot, max_plt, label = 'Max_sol')\n",
    "plt.plot(x_plot, mean_plt,label = 'All_mean',linestyle = '--')\n",
    "\n",
    "plt.xlabel('neighbor_solution')\n",
    "plt.ylabel('Score')\n",
    "plt.title('final_model')\n",
    "plt.legend()\n",
    "plt.show()\n",
    "\n",
    "for i in range(len(glo_sol)):\n",
    "    \n",
    "    str_a = ''\n",
    "    str_tm = ''\n",
    "    a,b = Select_data(glo_sol[i],data)\n",
    "    for j in range(len(glo_sol[i])):\n",
    "        q = glo_sol[i][j]\n",
    "        \n",
    "        t = ''\n",
    "        if q[0]==1:\n",
    "            t = '*'\n",
    "        else:\n",
    "            t = '-'\n",
    "        str_tm+= t\n",
    "        str_tm+=' ['\n",
    "        str_tm+='D'\n",
    "        str_tm+= str(q[1])\n",
    "        str_tm+= ' , '\n",
    "        str_tm+= str(q[2])\n",
    "        str_tm+='] '\n",
    "    str_a += str_tm\n",
    "    print('     스코어 : ',round(a,6),      '     NTU:', b,'해 : '  ,str_a, )\n",
    "\n"
   ]
  },
  {
   "cell_type": "code",
   "execution_count": null,
   "metadata": {},
   "outputs": [
    {
     "data": {
      "application/vnd.jupyter.widget-view+json": {
       "model_id": "f31f6ec5af3642388977301788f50d5c",
       "version_major": 2,
       "version_minor": 0
      },
      "text/plain": [
       "HBox(children=(IntProgress(value=0, max=5), HTML(value='')))"
      ]
     },
     "metadata": {},
     "output_type": "display_data"
    },
    {
     "name": "stdout",
     "output_type": "stream",
     "text": [
      "1\n",
      "i는 1\n"
     ]
    },
    {
     "data": {
      "application/vnd.jupyter.widget-view+json": {
       "model_id": "d0470704051d4dd383e7afed763230bf",
       "version_major": 2,
       "version_minor": 0
      },
      "text/plain": [
       "HBox(children=(IntProgress(value=0, max=136), HTML(value='')))"
      ]
     },
     "metadata": {},
     "output_type": "display_data"
    },
    {
     "name": "stdout",
     "output_type": "stream",
     "text": [
      "0.05915071862273937\n",
      "[[1, 26, 10]]\n",
      "i는 1\n"
     ]
    },
    {
     "data": {
      "application/vnd.jupyter.widget-view+json": {
       "model_id": "11faaad9dde14257ae9609e3d591829e",
       "version_major": 2,
       "version_minor": 0
      },
      "text/plain": [
       "HBox(children=(IntProgress(value=0, max=45), HTML(value='')))"
      ]
     },
     "metadata": {},
     "output_type": "display_data"
    },
    {
     "name": "stdout",
     "output_type": "stream",
     "text": [
      "1\n",
      "0.05915071862273937\n",
      "[[1, 37, 1]]\n",
      "i는 1\n"
     ]
    },
    {
     "data": {
      "application/vnd.jupyter.widget-view+json": {
       "model_id": "1e3bd61142d846c49d4e584987648db4",
       "version_major": 2,
       "version_minor": 0
      },
      "text/plain": [
       "HBox(children=(IntProgress(value=0, max=57), HTML(value='')))"
      ]
     },
     "metadata": {},
     "output_type": "display_data"
    },
    {
     "name": "stdout",
     "output_type": "stream",
     "text": [
      "i는 1\n"
     ]
    },
    {
     "data": {
      "application/vnd.jupyter.widget-view+json": {
       "model_id": "95d62214f717485f9fbbb15b17348568",
       "version_major": 2,
       "version_minor": 0
      },
      "text/plain": [
       "HBox(children=(IntProgress(value=0, max=39), HTML(value='')))"
      ]
     },
     "metadata": {},
     "output_type": "display_data"
    },
    {
     "name": "stdout",
     "output_type": "stream",
     "text": [
      "2\n",
      "0.05915071862273937\n",
      "[[1, 37, 1]]\n",
      "i는 1\n"
     ]
    },
    {
     "data": {
      "application/vnd.jupyter.widget-view+json": {
       "model_id": "d577ee94eeb649a2a1d268b1b9c99dd4",
       "version_major": 2,
       "version_minor": 0
      },
      "text/plain": [
       "HBox(children=(IntProgress(value=0, max=34), HTML(value='')))"
      ]
     },
     "metadata": {},
     "output_type": "display_data"
    },
    {
     "name": "stdout",
     "output_type": "stream",
     "text": [
      "i는 1\n"
     ]
    },
    {
     "data": {
      "application/vnd.jupyter.widget-view+json": {
       "model_id": "4c6ab522674142cd96682808c4de8c93",
       "version_major": 2,
       "version_minor": 0
      },
      "text/plain": [
       "HBox(children=(IntProgress(value=0, max=54), HTML(value='')))"
      ]
     },
     "metadata": {},
     "output_type": "display_data"
    },
    {
     "name": "stdout",
     "output_type": "stream",
     "text": [
      "i는 1\n"
     ]
    },
    {
     "data": {
      "application/vnd.jupyter.widget-view+json": {
       "model_id": "339a3f9bcb7f4e0a9baa23c3eed87579",
       "version_major": 2,
       "version_minor": 0
      },
      "text/plain": [
       "HBox(children=(IntProgress(value=0, max=25), HTML(value='')))"
      ]
     },
     "metadata": {},
     "output_type": "display_data"
    },
    {
     "name": "stdout",
     "output_type": "stream",
     "text": [
      "3\n",
      "0.05915071862273937\n",
      "[[1, 37, 1]]\n",
      "2\n",
      "i는 2\n"
     ]
    },
    {
     "data": {
      "application/vnd.jupyter.widget-view+json": {
       "model_id": "cadda265df9d476f8ddc7f47b92a0add",
       "version_major": 2,
       "version_minor": 0
      },
      "text/plain": [
       "HBox(children=(IntProgress(value=0, max=203), HTML(value='')))"
      ]
     },
     "metadata": {},
     "output_type": "display_data"
    },
    {
     "name": "stdout",
     "output_type": "stream",
     "text": [
      "0.06305539392253806\n",
      "[[1, 15, 5], [1, 38, 5]]\n",
      "i는 2\n"
     ]
    },
    {
     "data": {
      "application/vnd.jupyter.widget-view+json": {
       "model_id": "4187ac578a5447d49823cce3d8023ae6",
       "version_major": 2,
       "version_minor": 0
      },
      "text/plain": [
       "HBox(children=(IntProgress(value=0, max=270), HTML(value='')))"
      ]
     },
     "metadata": {},
     "output_type": "display_data"
    },
    {
     "name": "stdout",
     "output_type": "stream",
     "text": [
      "0\n",
      "0.06532467264685109\n",
      "[[1, 15, 3], [1, 30, 9]]\n",
      "i는 2\n"
     ]
    },
    {
     "data": {
      "application/vnd.jupyter.widget-view+json": {
       "model_id": "09d7649eefc54ffb947b614cb5f4b4d0",
       "version_major": 2,
       "version_minor": 0
      },
      "text/plain": [
       "HBox(children=(IntProgress(value=0, max=149), HTML(value='')))"
      ]
     },
     "metadata": {},
     "output_type": "display_data"
    },
    {
     "name": "stdout",
     "output_type": "stream",
     "text": [
      "1\n",
      "0.06532467264685109\n",
      "[[1, 4, 5], [1, 30, 9]]\n",
      "i는 2\n"
     ]
    },
    {
     "data": {
      "application/vnd.jupyter.widget-view+json": {
       "model_id": "5e056c446b9647f2a4852ed2b7dc48ad",
       "version_major": 2,
       "version_minor": 0
      },
      "text/plain": [
       "HBox(children=(IntProgress(value=0, max=143), HTML(value='')))"
      ]
     },
     "metadata": {},
     "output_type": "display_data"
    },
    {
     "name": "stdout",
     "output_type": "stream",
     "text": [
      "2\n",
      "0.06532467264685109\n",
      "[[1, 4, 5], [1, 30, 9]]\n",
      "i는 2\n"
     ]
    },
    {
     "data": {
      "application/vnd.jupyter.widget-view+json": {
       "model_id": "b264582a34c54fd2a3212d4e96d7bfc1",
       "version_major": 2,
       "version_minor": 0
      },
      "text/plain": [
       "HBox(children=(IntProgress(value=0, max=114), HTML(value='')))"
      ]
     },
     "metadata": {},
     "output_type": "display_data"
    },
    {
     "name": "stdout",
     "output_type": "stream",
     "text": [
      "3\n",
      "0.06532467264685109\n",
      "[[1, 4, 5], [1, 30, 9]]\n",
      "3\n",
      "i는 3\n"
     ]
    },
    {
     "data": {
      "application/vnd.jupyter.widget-view+json": {
       "model_id": "d5dd0a04c87c4303b1af8fcc88c61c8b",
       "version_major": 2,
       "version_minor": 0
      },
      "text/plain": [
       "HBox(children=(IntProgress(value=0, max=254), HTML(value='')))"
      ]
     },
     "metadata": {},
     "output_type": "display_data"
    },
    {
     "name": "stdout",
     "output_type": "stream",
     "text": [
      "0.06532467264685109\n",
      "[[1, 4, 5], [1, 30, 9]]\n",
      "i는 3\n"
     ]
    },
    {
     "data": {
      "application/vnd.jupyter.widget-view+json": {
       "model_id": "865e72152ec44c678f2c8bab2efdf777",
       "version_major": 2,
       "version_minor": 0
      },
      "text/plain": [
       "HBox(children=(IntProgress(value=0, max=330), HTML(value='')))"
      ]
     },
     "metadata": {},
     "output_type": "display_data"
    },
    {
     "name": "stdout",
     "output_type": "stream",
     "text": [
      "0\n",
      "0.06607321701040016\n",
      "[[1, 26, 8], [1, 49, 2], [1, 46, 2]]\n",
      "i는 3\n"
     ]
    },
    {
     "data": {
      "application/vnd.jupyter.widget-view+json": {
       "model_id": "467d0ea09cd04cc6b3d0514123c8f71a",
       "version_major": 2,
       "version_minor": 0
      },
      "text/plain": [
       "HBox(children=(IntProgress(value=0, max=391), HTML(value='')))"
      ]
     },
     "metadata": {},
     "output_type": "display_data"
    },
    {
     "name": "stdout",
     "output_type": "stream",
     "text": [
      "1\n",
      "0.06607321701040016\n",
      "[[1, 12, 5], [1, 49, 2], [1, 46, 2]]\n",
      "i는 3\n"
     ]
    },
    {
     "data": {
      "application/vnd.jupyter.widget-view+json": {
       "model_id": "58e7b9c9081346f895c48cf9eb3d0832",
       "version_major": 2,
       "version_minor": 0
      },
      "text/plain": [
       "HBox(children=(IntProgress(value=0, max=312), HTML(value='')))"
      ]
     },
     "metadata": {},
     "output_type": "display_data"
    },
    {
     "name": "stdout",
     "output_type": "stream",
     "text": [
      "0\n",
      "0.06633291538280017\n",
      "[[1, 26, 6], [1, 11, 2], [1, 46, 3]]\n",
      "i는 3\n"
     ]
    },
    {
     "data": {
      "application/vnd.jupyter.widget-view+json": {
       "model_id": "1d09dff600524078ab32398e21b5e7ea",
       "version_major": 2,
       "version_minor": 0
      },
      "text/plain": [
       "HBox(children=(IntProgress(value=0, max=338), HTML(value='')))"
      ]
     },
     "metadata": {},
     "output_type": "display_data"
    },
    {
     "name": "stdout",
     "output_type": "stream",
     "text": [
      "1\n",
      "0.06633291538280017\n",
      "[[1, 3, 5], [1, 11, 2], [1, 46, 3]]\n",
      "i는 3\n"
     ]
    },
    {
     "data": {
      "application/vnd.jupyter.widget-view+json": {
       "model_id": "41ef1a0430834c3c9ad956d6dba570e7",
       "version_major": 2,
       "version_minor": 0
      },
      "text/plain": [
       "HBox(children=(IntProgress(value=0, max=356), HTML(value='')))"
      ]
     },
     "metadata": {},
     "output_type": "display_data"
    },
    {
     "name": "stdout",
     "output_type": "stream",
     "text": [
      "2\n",
      "0.06633291538280017\n",
      "[[1, 3, 5], [1, 11, 2], [1, 46, 3]]\n",
      "i는 3\n"
     ]
    },
    {
     "data": {
      "application/vnd.jupyter.widget-view+json": {
       "model_id": "7e7c9705c37842959789e56e623d01f6",
       "version_major": 2,
       "version_minor": 0
      },
      "text/plain": [
       "HBox(children=(IntProgress(value=0, max=314), HTML(value='')))"
      ]
     },
     "metadata": {},
     "output_type": "display_data"
    },
    {
     "name": "stdout",
     "output_type": "stream",
     "text": [
      "3\n",
      "0.06633291538280017\n",
      "[[1, 3, 5], [1, 11, 2], [1, 46, 3]]\n",
      "4\n",
      "i는 4\n"
     ]
    },
    {
     "data": {
      "application/vnd.jupyter.widget-view+json": {
       "model_id": "b6443fcdb48e4511abf1f3b36c498073",
       "version_major": 2,
       "version_minor": 0
      },
      "text/plain": [
       "HBox(children=(IntProgress(value=0, max=469), HTML(value='')))"
      ]
     },
     "metadata": {},
     "output_type": "display_data"
    },
    {
     "name": "stdout",
     "output_type": "stream",
     "text": [
      "0.06633291538280017\n",
      "[[1, 3, 5], [1, 11, 2], [1, 46, 3]]\n",
      "i는 4\n"
     ]
    },
    {
     "data": {
      "application/vnd.jupyter.widget-view+json": {
       "model_id": "6efb2f7f55fb4b6cb98d10fe6b542855",
       "version_major": 2,
       "version_minor": 0
      },
      "text/plain": [
       "HBox(children=(IntProgress(value=0, max=524), HTML(value='')))"
      ]
     },
     "metadata": {},
     "output_type": "display_data"
    },
    {
     "name": "stdout",
     "output_type": "stream",
     "text": [
      "1\n",
      "0.06633291538280017\n",
      "[[1, 3, 5], [1, 11, 2], [1, 46, 3]]\n",
      "i는 4\n"
     ]
    },
    {
     "data": {
      "application/vnd.jupyter.widget-view+json": {
       "model_id": "95261c29f07d48979e319b610e41935d",
       "version_major": 2,
       "version_minor": 0
      },
      "text/plain": [
       "HBox(children=(IntProgress(value=0, max=542), HTML(value='')))"
      ]
     },
     "metadata": {},
     "output_type": "display_data"
    },
    {
     "name": "stdout",
     "output_type": "stream",
     "text": [
      "0\n",
      "0.06680135907227194\n",
      "[[1, 49, 1], [1, 23, 2], [1, 15, 6], [1, 27, 5]]\n",
      "i는 4\n"
     ]
    },
    {
     "data": {
      "application/vnd.jupyter.widget-view+json": {
       "model_id": "0adc869c5bc5465dbace704c42d60dd5",
       "version_major": 2,
       "version_minor": 0
      },
      "text/plain": [
       "HBox(children=(IntProgress(value=0, max=384), HTML(value='')))"
      ]
     },
     "metadata": {},
     "output_type": "display_data"
    },
    {
     "name": "stdout",
     "output_type": "stream",
     "text": [
      "1\n",
      "0.06680135907227194\n",
      "[[1, 24, 5], [1, 23, 2], [1, 15, 6], [1, 27, 5]]\n",
      "i는 4\n"
     ]
    },
    {
     "data": {
      "application/vnd.jupyter.widget-view+json": {
       "model_id": "2fd01391171944feb8a989911b6b574c",
       "version_major": 2,
       "version_minor": 0
      },
      "text/plain": [
       "HBox(children=(IntProgress(value=0, max=555), HTML(value='')))"
      ]
     },
     "metadata": {},
     "output_type": "display_data"
    },
    {
     "name": "stdout",
     "output_type": "stream",
     "text": [
      "2\n",
      "0.06680135907227194\n",
      "[[1, 24, 5], [1, 23, 2], [1, 15, 6], [1, 27, 5]]\n",
      "i는 4\n"
     ]
    },
    {
     "data": {
      "application/vnd.jupyter.widget-view+json": {
       "model_id": "79c2d292c0f94ed4a54bf61b19fdb0fe",
       "version_major": 2,
       "version_minor": 0
      },
      "text/plain": [
       "HBox(children=(IntProgress(value=0, max=561), HTML(value='')))"
      ]
     },
     "metadata": {},
     "output_type": "display_data"
    }
   ],
   "source": [
    "start = time.time()\n",
    "\n",
    "\n",
    "graph_dot = []\n",
    "tag_num_tabu = []\n",
    "\n",
    "glo_sol = []\n",
    "glo_scr = []\n",
    "desire = base_score\n",
    "for i in tqdm_notebook(range(1,6)):\n",
    "    \n",
    "    \n",
    "    tag_num_tabu = []\n",
    "    sol_l = []\n",
    "    sol_s = []\n",
    "    real_sol = []\n",
    "    real_scr = []\n",
    "    flg=True\n",
    "    cnt = 0\n",
    "    cnt2 = 0\n",
    "    while(flg):\n",
    "        cnt+=1\n",
    "        print('i는',i)\n",
    "        if cnt == 1:\n",
    "            insol = Make_insol(i)\n",
    "            nbr = Make_neighbor_sol(insol,20*(i*i))\n",
    "            b = Make_detail_neighbor(insol)\n",
    "            nbr+=b\n",
    "            \n",
    "        else:\n",
    "            if len(sol_s):\n",
    "                insol = sol_l[sol_s.index(max(sol_s))]\n",
    "                nbr = Make_neighbor_sol(insol,20*(i*i))\n",
    "                b = Make_detail_neighbor(insol)\n",
    "                nbr+=b\n",
    "#                 b = good_neighbor_sol(insol,10*i)\n",
    "#                 nbr+= b\n",
    "            else : \n",
    "                insol = Make_insol(i)\n",
    "                nbr = Make_neighbor_sol(insol,20*(i*i))\n",
    "                b = Make_detail_neighbor(insol)\n",
    "                nbr+=b\n",
    "#                 b = good_neighbor_sol(insol,10*i)\n",
    "#                 nbr+= b\n",
    "        sol_l = []\n",
    "        sol_s = []\n",
    "        #######여기서 nbr 열망함수 적용 \n",
    "        nbr = check_nbr(nbr,data,desire)\n",
    "        for j in tqdm_notebook(nbr):\n",
    "            \n",
    "            b_nbr = Make_valneighbor(j,5*(i))\n",
    "            b_nbr = check_nbr(b_nbr,data,desire)\n",
    "            sol = find_local_sol(b_nbr)\n",
    "            #######여기 벨류해???\n",
    "            if sol : \n",
    "                \n",
    "                a,b = Select_data(sol,data)\n",
    "                graph_dot.append(a)\n",
    "                sol_l.append(sol)\n",
    "                sol_s.append(a)\n",
    "                \n",
    "        if len(sol_s):\n",
    "            s = max(sol_s)\n",
    "            if cnt >= 2 :\n",
    "                if max(glo_scr) >= s:\n",
    "                    cnt2 += 1\n",
    "                    if cnt2 == 3:\n",
    "                        flg =False\n",
    "                else:\n",
    "                    cnt2 = 0\n",
    "                print(cnt2)\n",
    "            glo_sol.append(sol_l[sol_s.index(s)])\n",
    "            glo_scr.append(s)\n",
    "            desire = (sum(glo_scr)+base_score) / (len(glo_scr)+1)\n",
    "        else:\n",
    "            continue\n",
    "            \n",
    "        print(max(glo_scr))\n",
    "        print(glo_sol[glo_scr.index(max(glo_scr))])\n",
    "print(\"time :\", time.time() - start)"
   ]
  },
  {
   "cell_type": "code",
   "execution_count": null,
   "metadata": {},
   "outputs": [],
   "source": []
  }
 ],
 "metadata": {
  "kernelspec": {
   "display_name": "Python 3",
   "language": "python",
   "name": "python3"
  },
  "language_info": {
   "codemirror_mode": {
    "name": "ipython",
    "version": 3
   },
   "file_extension": ".py",
   "mimetype": "text/x-python",
   "name": "python",
   "nbconvert_exporter": "python",
   "pygments_lexer": "ipython3",
   "version": "3.6.8"
  }
 },
 "nbformat": 4,
 "nbformat_minor": 2
}
